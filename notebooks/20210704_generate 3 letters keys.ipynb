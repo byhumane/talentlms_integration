{
 "cells": [
  {
   "cell_type": "markdown",
   "id": "0361b6bf-d23c-4aa5-adae-878677b299ea",
   "metadata": {},
   "source": [
    "# Goal\n",
    "- Generate keys combining 3 uppercase letters"
   ]
  },
  {
   "cell_type": "code",
   "execution_count": 2,
   "id": "496a000b-d4f5-4d2d-b1ec-aba748cec5bc",
   "metadata": {},
   "outputs": [],
   "source": [
    "from itertools import product\n",
    "from string import ascii_uppercase\n",
    "import pandas as pd"
   ]
  },
  {
   "cell_type": "code",
   "execution_count": 4,
   "id": "df645eda-7e76-4f84-aa0e-827c81591c1f",
   "metadata": {},
   "outputs": [
    {
     "data": {
      "text/plain": [
       "0        AAA\n",
       "1        AAB\n",
       "2        AAC\n",
       "3        AAD\n",
       "4        AAE\n",
       "        ... \n",
       "17571    ZZV\n",
       "17572    ZZW\n",
       "17573    ZZX\n",
       "17574    ZZY\n",
       "17575    ZZZ\n",
       "Length: 17576, dtype: object"
      ]
     },
     "execution_count": 4,
     "metadata": {},
     "output_type": "execute_result"
    }
   ],
   "source": [
    "s_keys=pd.Series([''.join(i) for i in product(ascii_uppercase, repeat = 3)])\n",
    "s_keys"
   ]
  },
  {
   "cell_type": "code",
   "execution_count": 6,
   "id": "58ad7f5d-25a3-4161-91b8-8c3aa5014485",
   "metadata": {},
   "outputs": [],
   "source": [
    "s_keys.to_csv(\"s_keys.csv\",index=False)"
   ]
  },
  {
   "cell_type": "code",
   "execution_count": null,
   "id": "5691e1a3-ca2e-4de6-b9c2-c226e9714fba",
   "metadata": {},
   "outputs": [],
   "source": []
  }
 ],
 "metadata": {
  "kernelspec": {
   "display_name": "Python [conda env:talent-lms-integration]",
   "language": "python",
   "name": "conda-env-talent-lms-integration-py"
  },
  "language_info": {
   "codemirror_mode": {
    "name": "ipython",
    "version": 3
   },
   "file_extension": ".py",
   "mimetype": "text/x-python",
   "name": "python",
   "nbconvert_exporter": "python",
   "pygments_lexer": "ipython3",
   "version": "3.9.5"
  }
 },
 "nbformat": 4,
 "nbformat_minor": 5
}
