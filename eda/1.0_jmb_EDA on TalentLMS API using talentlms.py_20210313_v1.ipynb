{
 "cells": [
  {
   "cell_type": "markdown",
   "metadata": {
    "id": "OAFIgxvt1xlq"
   },
   "source": [
    "# GOAL"
   ]
  },
  {
   "cell_type": "markdown",
   "metadata": {
    "id": "w4cR1pjI12IC"
   },
   "source": [
    "# DEFINTIONS"
   ]
  },
  {
   "cell_type": "markdown",
   "metadata": {
    "id": "nScU6pPt12Eq"
   },
   "source": [
    "# PACKAGES"
   ]
  },
  {
   "cell_type": "code",
   "execution_count": 2,
   "metadata": {
    "colab": {
     "base_uri": "https://localhost:8080/"
    },
    "executionInfo": {
     "elapsed": 3436,
     "status": "ok",
     "timestamp": 1616289651366,
     "user": {
      "displayName": "João Miguel Benedetto",
      "photoUrl": "",
      "userId": "01429813854657997630"
     },
     "user_tz": 180
    },
    "id": "yPaJHhlVsPbz",
    "outputId": "ba4d21fb-230d-412a-fe0c-69dd6db2f0a7",
    "tags": []
   },
   "outputs": [],
   "source": [
    "import talentlms\n",
    "import requests\n",
    "import pandas as pd"
   ]
  },
  {
   "cell_type": "markdown",
   "metadata": {
    "id": "pL9ITTnw12BY"
   },
   "source": [
    "# PARAMETERS"
   ]
  },
  {
   "cell_type": "code",
   "execution_count": 2,
   "metadata": {
    "executionInfo": {
     "elapsed": 5489,
     "status": "ok",
     "timestamp": 1616286296012,
     "user": {
      "displayName": "João Miguel Benedetto",
      "photoUrl": "",
      "userId": "01429813854657997630"
     },
     "user_tz": 180
    },
    "id": "-3YdVUqN2jtN"
   },
   "outputs": [],
   "source": [
    "api_key = \"jFqqk4Exl21bgvnwDtriPyd52D4bgy\"\n",
    "domain = \"humane.talentlms.com\""
   ]
  },
  {
   "cell_type": "markdown",
   "metadata": {
    "id": "BZ73CkrN2AAZ"
   },
   "source": [
    "# FUNCTIONS"
   ]
  },
  {
   "cell_type": "code",
   "execution_count": 20,
   "metadata": {
    "executionInfo": {
     "elapsed": 646,
     "status": "ok",
     "timestamp": 1616289216024,
     "user": {
      "displayName": "João Miguel Benedetto",
      "photoUrl": "",
      "userId": "01429813854657997630"
     },
     "user_tz": 180
    },
    "id": "7tuyzlovSo8-"
   },
   "outputs": [],
   "source": [
    "def get_user_progress_in_units(connection_id, unit_id, user_id=None):\n",
    "    \"\"\"\n",
    "    (object,integer,integer)-->(dict or list of dicts)\n",
    "    /v1/getusersprogressinunits/unit_id:{unitId},user_id:{userId}\n",
    "    If no user_id is passed, it returns the progress for all users that performed the unit.\n",
    "    If user_id is passed, it limits the results to the user.\n",
    "    \"\"\"\n",
    "    if user_id == None:\n",
    "        return connection_id.get(\"getusersprogressinunits\", {\"unit_id\": unit_id})\n",
    "    else:\n",
    "        return connection_id.get(\n",
    "            \"getusersprogressinunits\", {\"unit_id\": unit_id, \"user_id\": user_id}\n",
    "        )"
   ]
  },
  {
   "cell_type": "code",
   "execution_count": 22,
   "metadata": {
    "colab": {
     "base_uri": "https://localhost:8080/"
    },
    "executionInfo": {
     "elapsed": 869,
     "status": "ok",
     "timestamp": 1616289244305,
     "user": {
      "displayName": "João Miguel Benedetto",
      "photoUrl": "",
      "userId": "01429813854657997630"
     },
     "user_tz": 180
    },
    "id": "q5yAgamZUWwi",
    "outputId": "d66a801c-23a8-442a-a1a0-e5f403a10a52"
   },
   "outputs": [
    {
     "data": {
      "text/plain": [
       "{'score': '100', 'status': 'Completed', 'user_id': '1'}"
      ]
     },
     "execution_count": 22,
     "metadata": {
      "tags": []
     },
     "output_type": "execute_result"
    }
   ],
   "source": [
    "get_user_progress_in_units(lms, 1994, 1)"
   ]
  },
  {
   "cell_type": "code",
   "execution_count": 23,
   "metadata": {
    "colab": {
     "base_uri": "https://localhost:8080/"
    },
    "executionInfo": {
     "elapsed": 886,
     "status": "ok",
     "timestamp": 1616289277665,
     "user": {
      "displayName": "João Miguel Benedetto",
      "photoUrl": "",
      "userId": "01429813854657997630"
     },
     "user_tz": 180
    },
    "id": "twdbI6hjV7MX",
    "outputId": "6f222d0f-d9b7-48bb-938f-bfb15f8d55fe"
   },
   "outputs": [
    {
     "data": {
      "text/plain": [
       "[{'score': '100', 'status': 'Completed', 'user_id': '1'}]"
      ]
     },
     "execution_count": 23,
     "metadata": {
      "tags": []
     },
     "output_type": "execute_result"
    }
   ],
   "source": [
    "get_user_progress_in_units(lms, 1994)"
   ]
  },
  {
   "cell_type": "code",
   "execution_count": null,
   "metadata": {
    "id": "iy9yeG3IUOej"
   },
   "outputs": [],
   "source": [
    "\n",
    "    def get_test_answers(test_id, user_id):\n",
    "      \"\"\"\n",
    "      /v1/gettestanswers/test_id:{testId},user_id:{userId}\n",
    "      \"\"\"\n",
    "        raise NotImplementedError\n",
    "\n",
    "    def get_survey_answers(survey_id, user_id):\n",
    "      \"\"\"\n",
    "      /v1/getsurveyanswers/survey_id:{surveyId},user_id:{userId}\n",
    "      \"\"\"\n",
    "        raise NotImplementedError"
   ]
  },
  {
   "cell_type": "markdown",
   "metadata": {
    "id": "Fk_n2Umq2Pw5"
   },
   "source": [
    "# DATA WRANGLING"
   ]
  },
  {
   "cell_type": "markdown",
   "metadata": {
    "id": "2kkvrwYFW8EY"
   },
   "source": [
    "## Initial api data check"
   ]
  },
  {
   "cell_type": "code",
   "execution_count": 3,
   "metadata": {
    "executionInfo": {
     "elapsed": 5487,
     "status": "ok",
     "timestamp": 1616286296012,
     "user": {
      "displayName": "João Miguel Benedetto",
      "photoUrl": "",
      "userId": "01429813854657997630"
     },
     "user_tz": 180
    },
    "id": "dbdQKJ8X1cxn"
   },
   "outputs": [],
   "source": [
    "lms = talentlms.api(domain, api_key)"
   ]
  },
  {
   "cell_type": "code",
   "execution_count": 4,
   "metadata": {
    "colab": {
     "base_uri": "https://localhost:8080/"
    },
    "executionInfo": {
     "elapsed": 5860,
     "status": "ok",
     "timestamp": 1616286296395,
     "user": {
      "displayName": "João Miguel Benedetto",
      "photoUrl": "",
      "userId": "01429813854657997630"
     },
     "user_tz": 180
    },
    "id": "-cRYOTU670dZ",
    "outputId": "70fe9c24-e27a-4b9b-fdb5-038ab65b764c"
   },
   "outputs": [
    {
     "data": {
      "text/plain": [
       "[{'avatar': 'https://d3j0t7vrtr92dk.cloudfront.net/images/default_user.png',\n",
       "  'bio': None,\n",
       "  'created_on': '21/02/2021, 20:16:21',\n",
       "  'deactivation_date': '',\n",
       "  'email': 'jmbenedetto@byhumane.com',\n",
       "  'first_name': 'JM',\n",
       "  'id': '1',\n",
       "  'language': 'English',\n",
       "  'last_name': 'Benedetto',\n",
       "  'last_updated': '20/03/2021, 20:18:02',\n",
       "  'last_updated_timestamp': '1616282282',\n",
       "  'level': '3',\n",
       "  'login': 'jmbenedetto',\n",
       "  'login_key': 'https://humane.talentlms.com/index/autologin/key:475xnb4jtlbe4b9psrb416139493811',\n",
       "  'points': '2400',\n",
       "  'restrict_email': '0',\n",
       "  'status': 'active',\n",
       "  'timezone': '(GMT -03:00) Buenos Aires, Georgetown, Brasilia',\n",
       "  'user_type': 'SuperAdmin'},\n",
       " {'avatar': 'https://d3j0t7vrtr92dk.cloudfront.net/images/default_user.png',\n",
       "  'bio': '',\n",
       "  'created_on': '20/03/2021, 11:21:29',\n",
       "  'deactivation_date': '',\n",
       "  'email': 'jmbenedetto@gmail.com',\n",
       "  'first_name': 'Test1',\n",
       "  'id': '2',\n",
       "  'language': 'Portuguese Brazil',\n",
       "  'last_name': 'teste 2',\n",
       "  'last_updated': '20/03/2021, 11:22:32',\n",
       "  'last_updated_timestamp': '1616250152',\n",
       "  'level': '1',\n",
       "  'login': 'jmbenedetto1',\n",
       "  'login_key': 'https://humane.talentlms.com/index/autologin/key:5wgarmtt641k9rni12ka16162500892',\n",
       "  'points': '25',\n",
       "  'restrict_email': '0',\n",
       "  'status': 'active',\n",
       "  'timezone': '(GMT -03:00) Sao Paulo, Brazil',\n",
       "  'user_type': 'Learner-Type'}]"
      ]
     },
     "execution_count": 4,
     "metadata": {
      "tags": []
     },
     "output_type": "execute_result"
    }
   ],
   "source": [
    "users = lms.users()\n",
    "users"
   ]
  },
  {
   "cell_type": "code",
   "execution_count": 5,
   "metadata": {
    "colab": {
     "base_uri": "https://localhost:8080/"
    },
    "executionInfo": {
     "elapsed": 6114,
     "status": "ok",
     "timestamp": 1616286296658,
     "user": {
      "displayName": "João Miguel Benedetto",
      "photoUrl": "",
      "userId": "01429813854657997630"
     },
     "user_tz": 180
    },
    "id": "ni4v4nkTDu-Y",
    "outputId": "115c9d51-b617-4511-aaab-1c3a66b3417a"
   },
   "outputs": [
    {
     "data": {
      "text/plain": [
       "{'avatar': 'https://d3j0t7vrtr92dk.cloudfront.net/images/default_user.png',\n",
       " 'badges': [{'badge_set_id': '1',\n",
       "   'criteria': '1 certification',\n",
       "   'image_url': 'https://d3j0t7vrtr92dk.cloudfront.net/images/badges/set1/certification/1.png',\n",
       "   'issued_on': '12/03/2021, 21:11:44',\n",
       "   'issued_on_timestamp': 1615594304,\n",
       "   'name': 'Certification Newbie',\n",
       "   'type': 'certification'},\n",
       "  {'badge_set_id': '1',\n",
       "   'criteria': '2 certifications',\n",
       "   'image_url': 'https://d3j0t7vrtr92dk.cloudfront.net/images/badges/set1/certification/2.png',\n",
       "   'issued_on': '12/03/2021, 21:58:28',\n",
       "   'issued_on_timestamp': 1615597108,\n",
       "   'name': 'Certification Grower',\n",
       "   'type': 'certification'},\n",
       "  {'badge_set_id': '1',\n",
       "   'criteria': '1 completed course',\n",
       "   'image_url': 'https://d3j0t7vrtr92dk.cloudfront.net/images/badges/set1/learning/1.png',\n",
       "   'issued_on': '12/03/2021, 21:11:44',\n",
       "   'issued_on_timestamp': 1615594304,\n",
       "   'name': 'Learning Newbie',\n",
       "   'type': 'learning'},\n",
       "  {'badge_set_id': '1',\n",
       "   'criteria': '2 completed courses',\n",
       "   'image_url': 'https://d3j0t7vrtr92dk.cloudfront.net/images/badges/set1/learning/2.png',\n",
       "   'issued_on': '12/03/2021, 21:25:08',\n",
       "   'issued_on_timestamp': 1615595108,\n",
       "   'name': 'Learning Grower',\n",
       "   'type': 'learning'},\n",
       "  {'badge_set_id': '1',\n",
       "   'criteria': '4 completed courses',\n",
       "   'image_url': 'https://d3j0t7vrtr92dk.cloudfront.net/images/badges/set1/learning/3.png',\n",
       "   'issued_on': '12/03/2021, 22:10:17',\n",
       "   'issued_on_timestamp': 1615597817,\n",
       "   'name': 'Learning Adventurer',\n",
       "   'type': 'learning'},\n",
       "  {'badge_set_id': '1',\n",
       "   'criteria': '1 passed test or assignment with score 90%+',\n",
       "   'image_url': 'https://d3j0t7vrtr92dk.cloudfront.net/images/badges/set1/perfectionism/1.png',\n",
       "   'issued_on': '12/03/2021, 22:28:11',\n",
       "   'issued_on_timestamp': 1615598891,\n",
       "   'name': 'Perfectionism Newbie',\n",
       "   'type': 'perfectionism'},\n",
       "  {'badge_set_id': '1',\n",
       "   'criteria': '1 completed survey',\n",
       "   'image_url': 'https://d3j0t7vrtr92dk.cloudfront.net/images/badges/set1/survey/1.png',\n",
       "   'issued_on': '12/03/2021, 22:28:34',\n",
       "   'issued_on_timestamp': 1615598914,\n",
       "   'name': 'Survey Newbie',\n",
       "   'type': 'survey'}],\n",
       " 'bio': None,\n",
       " 'branches': [],\n",
       " 'certifications': [{'course_id': '124',\n",
       "   'course_name': 'Advanced Features of TalentLMS (002)',\n",
       "   'download_url': 'https://humane.talentlms.com/user/downloadcertification/id:2',\n",
       "   'expiration_date': 'Never',\n",
       "   'expiration_date_timestamp': 0,\n",
       "   'issued_date': '12/03/2021',\n",
       "   'issued_date_timestamp': 1615597107,\n",
       "   'public_url': 'https://humane.talentlms.com/user/certification/sig:UPDYNcgxoVyiOQR-6Us82A.bzhFTEhzRDRkbGdnc1N0OGJtYUFRZz09',\n",
       "   'unique_id': '7ec1-76d3-4c2a-1451'},\n",
       "  {'course_id': '123',\n",
       "   'course_name': 'Introduction to TalentLMS (001)',\n",
       "   'download_url': 'https://humane.talentlms.com/user/downloadcertification/id:1',\n",
       "   'expiration_date': 'Never',\n",
       "   'expiration_date_timestamp': 0,\n",
       "   'issued_date': '12/03/2021',\n",
       "   'issued_date_timestamp': 1615594304,\n",
       "   'public_url': 'https://humane.talentlms.com/user/certification/sig:h12X5nlZ7Di8vnuPOFeMRA.YTBycnhRbStGK2I2LzhTdUM1RnBwUT09',\n",
       "   'unique_id': '4299-c7b3-114b-54da'}],\n",
       " 'courses': [{'completed_on': '12/03/2021, 21:58:27',\n",
       "   'completed_on_timestamp': '1615597107',\n",
       "   'completion_percentage': '100',\n",
       "   'completion_status': 'completed',\n",
       "   'completion_status_formatted': 'Completed',\n",
       "   'enrolled_on': '21/02/2021, 20:16:21',\n",
       "   'enrolled_on_timestamp': '1613949381',\n",
       "   'expired_on': '',\n",
       "   'expired_on_timestamp': None,\n",
       "   'id': '124',\n",
       "   'name': 'Advanced Features of TalentLMS (002)',\n",
       "   'role': 'instructor',\n",
       "   'total_time': None,\n",
       "   'total_time_seconds': 0},\n",
       "  {'completed_on': '12/03/2021, 22:28:11',\n",
       "   'completed_on_timestamp': '1615598891',\n",
       "   'completion_percentage': '100',\n",
       "   'completion_status': 'completed',\n",
       "   'completion_status_formatted': 'Completed',\n",
       "   'enrolled_on': '21/02/2021, 20:16:21',\n",
       "   'enrolled_on_timestamp': '1613949381',\n",
       "   'expired_on': '',\n",
       "   'expired_on_timestamp': None,\n",
       "   'id': '46',\n",
       "   'name': 'Content and TalentLMS (003)',\n",
       "   'role': 'instructor',\n",
       "   'total_time': None,\n",
       "   'total_time_seconds': 0},\n",
       "  {'completed_on': '12/03/2021, 22:10:17',\n",
       "   'completed_on_timestamp': '1615597817',\n",
       "   'completion_percentage': '100',\n",
       "   'completion_status': 'completed',\n",
       "   'completion_status_formatted': 'Completed',\n",
       "   'enrolled_on': '21/02/2021, 20:16:21',\n",
       "   'enrolled_on_timestamp': '1613949381',\n",
       "   'expired_on': '',\n",
       "   'expired_on_timestamp': None,\n",
       "   'id': '113',\n",
       "   'name': 'Employee Training 101 (005)',\n",
       "   'role': 'instructor',\n",
       "   'total_time': None,\n",
       "   'total_time_seconds': 0},\n",
       "  {'completed_on': '12/03/2021, 21:25:08',\n",
       "   'completed_on_timestamp': '1615595108',\n",
       "   'completion_percentage': '100',\n",
       "   'completion_status': 'completed',\n",
       "   'completion_status_formatted': 'Completed',\n",
       "   'enrolled_on': '21/02/2021, 20:16:21',\n",
       "   'enrolled_on_timestamp': '1613949381',\n",
       "   'expired_on': '',\n",
       "   'expired_on_timestamp': None,\n",
       "   'id': '122',\n",
       "   'name': 'Getting Started With eLearning (004)',\n",
       "   'role': 'instructor',\n",
       "   'total_time': None,\n",
       "   'total_time_seconds': 0},\n",
       "  {'completed_on': '12/03/2021, 21:11:44',\n",
       "   'completed_on_timestamp': '1615594304',\n",
       "   'completion_percentage': '100',\n",
       "   'completion_status': 'completed',\n",
       "   'completion_status_formatted': 'Completed',\n",
       "   'enrolled_on': '21/02/2021, 20:16:21',\n",
       "   'enrolled_on_timestamp': '1613949381',\n",
       "   'expired_on': '',\n",
       "   'expired_on_timestamp': None,\n",
       "   'id': '123',\n",
       "   'name': 'Introduction to TalentLMS (001)',\n",
       "   'role': 'instructor',\n",
       "   'total_time': None,\n",
       "   'total_time_seconds': 0},\n",
       "  {'completed_on': '12/03/2021, 22:32:59',\n",
       "   'completed_on_timestamp': '1615599179',\n",
       "   'completion_percentage': '100',\n",
       "   'completion_status': 'completed',\n",
       "   'completion_status_formatted': 'Completed',\n",
       "   'enrolled_on': '21/02/2021, 20:16:21',\n",
       "   'enrolled_on_timestamp': '1613949381',\n",
       "   'expired_on': '',\n",
       "   'expired_on_timestamp': None,\n",
       "   'id': '114',\n",
       "   'name': 'This is a SCORM Example Course (006)',\n",
       "   'role': 'instructor',\n",
       "   'total_time': None,\n",
       "   'total_time_seconds': 0}],\n",
       " 'created_on': '21/02/2021, 20:16:21',\n",
       " 'deactivation_date': '',\n",
       " 'email': 'jmbenedetto@byhumane.com',\n",
       " 'first_name': 'JM',\n",
       " 'groups': [],\n",
       " 'id': '1',\n",
       " 'language': 'English',\n",
       " 'last_name': 'Benedetto',\n",
       " 'last_updated': '20/03/2021, 20:18:02',\n",
       " 'last_updated_timestamp': '1616282282',\n",
       " 'level': '3',\n",
       " 'login': 'jmbenedetto',\n",
       " 'login_key': 'https://humane.talentlms.com/index/autologin/key:475xnb4jtlbe4b9psrb416139493811',\n",
       " 'points': '2400',\n",
       " 'restrict_email': '0',\n",
       " 'status': 'active',\n",
       " 'timezone': '(GMT -03:00) Buenos Aires, Georgetown, Brasilia',\n",
       " 'user_type': 'SuperAdmin'}"
      ]
     },
     "execution_count": 5,
     "metadata": {
      "tags": []
     },
     "output_type": "execute_result"
    }
   ],
   "source": [
    "lms.users(1)"
   ]
  },
  {
   "cell_type": "code",
   "execution_count": 6,
   "metadata": {
    "colab": {
     "base_uri": "https://localhost:8080/"
    },
    "executionInfo": {
     "elapsed": 6344,
     "status": "ok",
     "timestamp": 1616286296898,
     "user": {
      "displayName": "João Miguel Benedetto",
      "photoUrl": "",
      "userId": "01429813854657997630"
     },
     "user_tz": 180
    },
    "id": "NsVhs2zIItcu",
    "outputId": "11b156ac-8e93-4abd-e029-6b4dd8e8594f"
   },
   "outputs": [
    {
     "data": {
      "text/plain": [
       "[{'avatar': 'https://d3j0t7vrtr92dk.cloudfront.net/samplecourses/1548346699_toolkit.png?',\n",
       "  'big_avatar': 'https://d3j0t7vrtr92dk.cloudfront.net/samplecourses/1548346701_toolkit.png?',\n",
       "  'category_id': '3',\n",
       "  'certification': 'Fancy',\n",
       "  'certification_duration': 'Forever',\n",
       "  'code': '002',\n",
       "  'creation_date': '21/02/2021, 20:16:21',\n",
       "  'creator_id': '1',\n",
       "  'description': 'How do you become a TalentLMS super-user? With this brief training on some of the more advanced features of our platform. Dive in and see how you can save time when building a course.',\n",
       "  'expiration_datetime': None,\n",
       "  'hide_from_catalog': '0',\n",
       "  'id': '124',\n",
       "  'last_update_on': '21/02/2021, 20:16:21',\n",
       "  'level': None,\n",
       "  'name': 'Advanced Features of TalentLMS',\n",
       "  'price': 'R&#36;0.00',\n",
       "  'shared': '0',\n",
       "  'shared_url': '',\n",
       "  'status': 'active',\n",
       "  'time_limit': '0'},\n",
       " {'avatar': 'https://d3j0t7vrtr92dk.cloudfront.net/samplecourses/1548346713_content.png?',\n",
       "  'big_avatar': 'https://d3j0t7vrtr92dk.cloudfront.net/samplecourses/1548346715_content.png?',\n",
       "  'category_id': '3',\n",
       "  'certification': None,\n",
       "  'certification_duration': None,\n",
       "  'code': '003',\n",
       "  'creation_date': '21/02/2021, 20:16:21',\n",
       "  'creator_id': '1',\n",
       "  'description': 'When creating an online course, content is all you need! Take some time to find out the types of content available in TalentLMS. More than that, this course will give you an idea about how it feels to be a learner in our platform.',\n",
       "  'expiration_datetime': None,\n",
       "  'hide_from_catalog': '0',\n",
       "  'id': '46',\n",
       "  'last_update_on': '21/02/2021, 20:16:21',\n",
       "  'level': None,\n",
       "  'name': 'Content and TalentLMS',\n",
       "  'price': 'R&#36;0.00',\n",
       "  'shared': '0',\n",
       "  'shared_url': '',\n",
       "  'status': 'active',\n",
       "  'time_limit': '0'},\n",
       " {'avatar': 'https://d3j0t7vrtr92dk.cloudfront.net/samplecourses/1548346724_employees.png?',\n",
       "  'big_avatar': 'https://d3j0t7vrtr92dk.cloudfront.net/samplecourses/1548346726_employees.png?',\n",
       "  'category_id': '3',\n",
       "  'certification': None,\n",
       "  'certification_duration': None,\n",
       "  'code': '005',\n",
       "  'creation_date': '21/02/2021, 20:16:21',\n",
       "  'creator_id': '1',\n",
       "  'description': 'Investing in employees can be the smartest decision a business could ever make. In this course, you’ll learn what employee training is, some of the common types, and how you can become a trainer your employees will love.',\n",
       "  'expiration_datetime': None,\n",
       "  'hide_from_catalog': '0',\n",
       "  'id': '113',\n",
       "  'last_update_on': '21/02/2021, 20:16:21',\n",
       "  'level': None,\n",
       "  'name': 'Employee Training 101',\n",
       "  'price': 'R&#36;0.00',\n",
       "  'shared': '0',\n",
       "  'shared_url': '',\n",
       "  'status': 'active',\n",
       "  'time_limit': '0'},\n",
       " {'avatar': 'https://d3j0t7vrtr92dk.cloudfront.net/samplecourses/1548346736_fundamentals.png?',\n",
       "  'big_avatar': 'https://d3j0t7vrtr92dk.cloudfront.net/samplecourses/1548346737_fundamentals.png?',\n",
       "  'category_id': '3',\n",
       "  'certification': None,\n",
       "  'certification_duration': None,\n",
       "  'code': '004',\n",
       "  'creation_date': '21/02/2021, 20:16:21',\n",
       "  'creator_id': '1',\n",
       "  'description': \"This course raises some fundamental eLearning questions. What do you need to succeed as an online instructor? What strategies do eLearning gurus practice? By the end of this course, you'll have all the answers.\",\n",
       "  'expiration_datetime': None,\n",
       "  'hide_from_catalog': '0',\n",
       "  'id': '122',\n",
       "  'last_update_on': '21/02/2021, 20:16:21',\n",
       "  'level': None,\n",
       "  'name': 'Getting Started With eLearning',\n",
       "  'price': 'R&#36;0.00',\n",
       "  'shared': '0',\n",
       "  'shared_url': '',\n",
       "  'status': 'active',\n",
       "  'time_limit': '0'},\n",
       " {'avatar': 'https://d3j0t7vrtr92dk.cloudfront.net/samplecourses/1548346753_intro.png?',\n",
       "  'big_avatar': 'https://d3j0t7vrtr92dk.cloudfront.net/samplecourses/1548346755_intro.png?',\n",
       "  'category_id': '3',\n",
       "  'certification': 'Fancy',\n",
       "  'certification_duration': 'Forever',\n",
       "  'code': '001',\n",
       "  'creation_date': '21/02/2021, 20:16:21',\n",
       "  'creator_id': '1',\n",
       "  'description': 'Welcome to TalentLMS! Using new software can be more frustrating than starting a show in the middle of the season. Watch this 15-minute video course to get familiar with TalentLMS and get the most out of your shiny new account.',\n",
       "  'expiration_datetime': None,\n",
       "  'hide_from_catalog': '0',\n",
       "  'id': '123',\n",
       "  'last_update_on': '21/02/2021, 20:16:21',\n",
       "  'level': None,\n",
       "  'name': 'Introduction to TalentLMS',\n",
       "  'price': 'R&#36;0.00',\n",
       "  'shared': '0',\n",
       "  'shared_url': '',\n",
       "  'status': 'active',\n",
       "  'time_limit': '0'},\n",
       " {'avatar': 'https://d3j0t7vrtr92dk.cloudfront.net/samplecourses/1548346770_scorm.png?',\n",
       "  'big_avatar': 'https://d3j0t7vrtr92dk.cloudfront.net/samplecourses/1548346772_scorm.png?',\n",
       "  'category_id': '3',\n",
       "  'certification': None,\n",
       "  'certification_duration': None,\n",
       "  'code': '006',\n",
       "  'creation_date': '21/02/2021, 20:16:21',\n",
       "  'creator_id': '1',\n",
       "  'description': \"SCORM is the fastest, easiest way to make your interactive content work well with your LMS. This example course will teach you how SCORM material works inside the platform and how to perform CPR. Don't you just love killing two birds with one stone?\",\n",
       "  'expiration_datetime': None,\n",
       "  'hide_from_catalog': '0',\n",
       "  'id': '114',\n",
       "  'last_update_on': '21/02/2021, 20:16:21',\n",
       "  'level': None,\n",
       "  'name': 'This is a SCORM Example Course',\n",
       "  'price': 'R&#36;0.00',\n",
       "  'shared': '0',\n",
       "  'shared_url': '',\n",
       "  'status': 'active',\n",
       "  'time_limit': '0'}]"
      ]
     },
     "execution_count": 6,
     "metadata": {
      "tags": []
     },
     "output_type": "execute_result"
    }
   ],
   "source": [
    "lms.get(\"courses\")"
   ]
  },
  {
   "cell_type": "code",
   "execution_count": 7,
   "metadata": {
    "colab": {
     "base_uri": "https://localhost:8080/"
    },
    "executionInfo": {
     "elapsed": 6598,
     "status": "ok",
     "timestamp": 1616286297162,
     "user": {
      "displayName": "João Miguel Benedetto",
      "photoUrl": "",
      "userId": "01429813854657997630"
     },
     "user_tz": 180
    },
    "id": "_Zxv5MH3MRgV",
    "outputId": "c051201d-39dc-408c-d32e-7338d379b452"
   },
   "outputs": [
    {
     "data": {
      "text/plain": [
       "{'avatar': 'https://d3j0t7vrtr92dk.cloudfront.net/samplecourses/1548346699_toolkit.png?',\n",
       " 'big_avatar': 'https://d3j0t7vrtr92dk.cloudfront.net/samplecourses/1548346701_toolkit.png?',\n",
       " 'category_id': '3',\n",
       " 'certification': 'Fancy',\n",
       " 'certification_duration': 'Forever',\n",
       " 'code': '002',\n",
       " 'creation_date': '21/02/2021, 20:16:21',\n",
       " 'creator_id': '1',\n",
       " 'description': 'How do you become a TalentLMS super-user? With this brief training on some of the more advanced features of our platform. Dive in and see how you can save time when building a course.',\n",
       " 'expiration_datetime': None,\n",
       " 'hide_from_catalog': '0',\n",
       " 'id': '124',\n",
       " 'last_update_on': '21/02/2021, 20:16:21',\n",
       " 'level': None,\n",
       " 'name': 'Advanced Features of TalentLMS',\n",
       " 'prerequisite_rule_sets': [],\n",
       " 'prerequisites': [],\n",
       " 'price': 'R&#36;0.00',\n",
       " 'rules': ['All units must be completed'],\n",
       " 'shared': '0',\n",
       " 'shared_url': '',\n",
       " 'status': 'active',\n",
       " 'time_limit': '0',\n",
       " 'units': [{'aggregated_delay_time': None,\n",
       "   'delay_time': None,\n",
       "   'formatted_aggregated_delay_time': None,\n",
       "   'id': '1993',\n",
       "   'name': 'Enhance your course',\n",
       "   'type': 'Section'},\n",
       "  {'id': '1994',\n",
       "   'name': 'How to add conferences',\n",
       "   'type': 'Video',\n",
       "   'url': 'https://humane.talentlms.com/unit/apiview/id:1994'},\n",
       "  {'id': '1995',\n",
       "   'name': 'How to create Instructor-led Training',\n",
       "   'type': 'Video',\n",
       "   'url': 'https://humane.talentlms.com/unit/apiview/id:1995'},\n",
       "  {'id': '1996',\n",
       "   'name': 'How to clone courses & units',\n",
       "   'type': 'Video',\n",
       "   'url': 'https://humane.talentlms.com/unit/apiview/id:1996'},\n",
       "  {'aggregated_delay_time': None,\n",
       "   'delay_time': None,\n",
       "   'formatted_aggregated_delay_time': None,\n",
       "   'id': '1997',\n",
       "   'name': 'Managing your users',\n",
       "   'type': 'Section'},\n",
       "  {'id': '1998',\n",
       "   'name': 'How to use Groups',\n",
       "   'type': 'Video',\n",
       "   'url': 'https://humane.talentlms.com/unit/apiview/id:1998'},\n",
       "  {'id': '1999',\n",
       "   'name': 'How to use Branches',\n",
       "   'type': 'Video',\n",
       "   'url': 'https://humane.talentlms.com/unit/apiview/id:1999'},\n",
       "  {'id': '2000',\n",
       "   'name': 'How to customize User Types',\n",
       "   'type': 'Video',\n",
       "   'url': 'https://humane.talentlms.com/unit/apiview/id:2000'},\n",
       "  {'aggregated_delay_time': None,\n",
       "   'delay_time': None,\n",
       "   'formatted_aggregated_delay_time': None,\n",
       "   'id': '2001',\n",
       "   'name': 'Advanced features',\n",
       "   'type': 'Section'},\n",
       "  {'id': '2002',\n",
       "   'name': 'How to work with Automations',\n",
       "   'type': 'Video',\n",
       "   'url': 'https://humane.talentlms.com/unit/apiview/id:2002'},\n",
       "  {'aggregated_delay_time': None,\n",
       "   'delay_time': None,\n",
       "   'formatted_aggregated_delay_time': None,\n",
       "   'id': '2003',\n",
       "   'name': 'Selling courses',\n",
       "   'type': 'Section'},\n",
       "  {'id': '2004',\n",
       "   'name': 'How to sell your courses',\n",
       "   'type': 'Video',\n",
       "   'url': 'https://humane.talentlms.com/unit/apiview/id:2004'}],\n",
       " 'users': [{'completed_on': '12/03/2021, 21:58:27',\n",
       "   'completed_on_timestamp': '1615597107',\n",
       "   'completion_percentage': '100',\n",
       "   'enrolled_on': '21/02/2021, 20:16:21',\n",
       "   'enrolled_on_timestamp': '1613949381',\n",
       "   'expired_on': '',\n",
       "   'expired_on_timestamp': None,\n",
       "   'id': '1',\n",
       "   'name': 'J. Benedetto',\n",
       "   'role': 'instructor',\n",
       "   'total_time': None,\n",
       "   'total_time_seconds': 0}]}"
      ]
     },
     "execution_count": 7,
     "metadata": {
      "tags": []
     },
     "output_type": "execute_result"
    }
   ],
   "source": [
    "lms.get(\"courses\", params={\"id\": 124})"
   ]
  },
  {
   "cell_type": "code",
   "execution_count": 8,
   "metadata": {
    "colab": {
     "base_uri": "https://localhost:8080/"
    },
    "executionInfo": {
     "elapsed": 6871,
     "status": "ok",
     "timestamp": 1616286297444,
     "user": {
      "displayName": "João Miguel Benedetto",
      "photoUrl": "",
      "userId": "01429813854657997630"
     },
     "user_tz": 180
    },
    "id": "cimjhKsFM5Gy",
    "outputId": "da125af3-0f47-45f9-9e4c-da44d0784a9c"
   },
   "outputs": [
    {
     "data": {
      "text/plain": [
       "{'score': '100', 'status': 'Completed', 'user_id': '1'}"
      ]
     },
     "execution_count": 8,
     "metadata": {
      "tags": []
     },
     "output_type": "execute_result"
    }
   ],
   "source": [
    "lms.get(\"getusersprogressinunits\", params={\"unit_id\": 1996, \"user_id\": 1})"
   ]
  },
  {
   "cell_type": "code",
   "execution_count": 11,
   "metadata": {
    "executionInfo": {
     "elapsed": 737,
     "status": "ok",
     "timestamp": 1616286321490,
     "user": {
      "displayName": "João Miguel Benedetto",
      "photoUrl": "",
      "userId": "01429813854657997630"
     },
     "user_tz": 180
    },
    "id": "_MY7sh1uOeXE"
   },
   "outputs": [],
   "source": [
    "?lms.get()"
   ]
  },
  {
   "cell_type": "code",
   "execution_count": 12,
   "metadata": {
    "colab": {
     "base_uri": "https://localhost:8080/"
    },
    "executionInfo": {
     "elapsed": 813,
     "status": "ok",
     "timestamp": 1616288300157,
     "user": {
      "displayName": "João Miguel Benedetto",
      "photoUrl": "",
      "userId": "01429813854657997630"
     },
     "user_tz": 180
    },
    "id": "DkyUK4cyUKju",
    "outputId": "a8a9da1b-384a-4c06-c53b-1cd7f800b6a4"
   },
   "outputs": [
    {
     "data": {
      "text/plain": [
       "{'formatted_reset': '20/03/2021, 22:24',\n",
       " 'limit': '50',\n",
       " 'remaining': 45,\n",
       " 'reset': '1616289898'}"
      ]
     },
     "execution_count": 12,
     "metadata": {
      "tags": []
     },
     "output_type": "execute_result"
    }
   ],
   "source": [
    "lms.ratelimit()"
   ]
  },
  {
   "cell_type": "markdown",
   "metadata": {
    "id": "sPoHzv8SXCok"
   },
   "source": [
    "## Understand user data"
   ]
  },
  {
   "cell_type": "code",
   "execution_count": 24,
   "metadata": {
    "colab": {
     "base_uri": "https://localhost:8080/"
    },
    "executionInfo": {
     "elapsed": 824,
     "status": "ok",
     "timestamp": 1616289578207,
     "user": {
      "displayName": "João Miguel Benedetto",
      "photoUrl": "",
      "userId": "01429813854657997630"
     },
     "user_tz": 180
    },
    "id": "sSM8ka0vSjkL",
    "outputId": "7df68b36-97af-4c9e-af09-5d5ff6b0add0"
   },
   "outputs": [
    {
     "data": {
      "text/plain": [
       "[{'avatar': 'https://d3j0t7vrtr92dk.cloudfront.net/images/default_user.png',\n",
       "  'bio': None,\n",
       "  'created_on': '21/02/2021, 20:16:21',\n",
       "  'deactivation_date': '',\n",
       "  'email': 'jmbenedetto@byhumane.com',\n",
       "  'first_name': 'JM',\n",
       "  'id': '1',\n",
       "  'language': 'English',\n",
       "  'last_name': 'Benedetto',\n",
       "  'last_updated': '20/03/2021, 20:18:02',\n",
       "  'last_updated_timestamp': '1616282282',\n",
       "  'level': '3',\n",
       "  'login': 'jmbenedetto',\n",
       "  'login_key': 'https://humane.talentlms.com/index/autologin/key:475xnb4jtlbe4b9psrb416139493811',\n",
       "  'points': '2400',\n",
       "  'restrict_email': '0',\n",
       "  'status': 'active',\n",
       "  'timezone': '(GMT -03:00) Buenos Aires, Georgetown, Brasilia',\n",
       "  'user_type': 'SuperAdmin'},\n",
       " {'avatar': 'https://d3j0t7vrtr92dk.cloudfront.net/images/default_user.png',\n",
       "  'bio': '',\n",
       "  'created_on': '20/03/2021, 11:21:29',\n",
       "  'deactivation_date': '',\n",
       "  'email': 'jmbenedetto@gmail.com',\n",
       "  'first_name': 'Test1',\n",
       "  'id': '2',\n",
       "  'language': 'Portuguese Brazil',\n",
       "  'last_name': 'teste 2',\n",
       "  'last_updated': '20/03/2021, 11:22:32',\n",
       "  'last_updated_timestamp': '1616250152',\n",
       "  'level': '1',\n",
       "  'login': 'jmbenedetto1',\n",
       "  'login_key': 'https://humane.talentlms.com/index/autologin/key:5wgarmtt641k9rni12ka16162500892',\n",
       "  'points': '25',\n",
       "  'restrict_email': '0',\n",
       "  'status': 'active',\n",
       "  'timezone': '(GMT -03:00) Sao Paulo, Brazil',\n",
       "  'user_type': 'Learner-Type'}]"
      ]
     },
     "execution_count": 24,
     "metadata": {
      "tags": []
     },
     "output_type": "execute_result"
    }
   ],
   "source": [
    "lms = talentlms.api(domain, api_key)\n",
    "users = lms.users()\n",
    "users"
   ]
  },
  {
   "cell_type": "code",
   "execution_count": 25,
   "metadata": {
    "colab": {
     "base_uri": "https://localhost:8080/"
    },
    "executionInfo": {
     "elapsed": 577,
     "status": "ok",
     "timestamp": 1616289589265,
     "user": {
      "displayName": "João Miguel Benedetto",
      "photoUrl": "",
      "userId": "01429813854657997630"
     },
     "user_tz": 180
    },
    "id": "eq_Dx1WCXbll",
    "outputId": "9187b110-6124-4ec1-c8a3-71c3d0c1f8c3"
   },
   "outputs": [
    {
     "data": {
      "text/plain": [
       "list"
      ]
     },
     "execution_count": 25,
     "metadata": {
      "tags": []
     },
     "output_type": "execute_result"
    }
   ],
   "source": [
    "type(users)"
   ]
  },
  {
   "cell_type": "code",
   "execution_count": 26,
   "metadata": {
    "colab": {
     "base_uri": "https://localhost:8080/"
    },
    "executionInfo": {
     "elapsed": 400,
     "status": "ok",
     "timestamp": 1616289598735,
     "user": {
      "displayName": "João Miguel Benedetto",
      "photoUrl": "",
      "userId": "01429813854657997630"
     },
     "user_tz": 180
    },
    "id": "C7qTVrrkXeWJ",
    "outputId": "0c6b166e-cd02-4756-c8c9-2c8c332d04c2"
   },
   "outputs": [
    {
     "data": {
      "text/plain": [
       "2"
      ]
     },
     "execution_count": 26,
     "metadata": {
      "tags": []
     },
     "output_type": "execute_result"
    }
   ],
   "source": [
    "len(users)"
   ]
  },
  {
   "cell_type": "code",
   "execution_count": 27,
   "metadata": {
    "colab": {
     "base_uri": "https://localhost:8080/"
    },
    "executionInfo": {
     "elapsed": 1303,
     "status": "ok",
     "timestamp": 1616289617852,
     "user": {
      "displayName": "João Miguel Benedetto",
      "photoUrl": "",
      "userId": "01429813854657997630"
     },
     "user_tz": 180
    },
    "id": "kjelyo3wXgsF",
    "outputId": "0546ad99-1050-4847-929d-8dc9fee74f51"
   },
   "outputs": [
    {
     "name": "stdout",
     "output_type": "stream",
     "text": [
      "{'id': '1', 'login': 'jmbenedetto', 'first_name': 'JM', 'last_name': 'Benedetto', 'email': 'jmbenedetto@byhumane.com', 'restrict_email': '0', 'user_type': 'SuperAdmin', 'timezone': '(GMT -03:00) Buenos Aires, Georgetown, Brasilia', 'language': 'English', 'status': 'active', 'deactivation_date': '', 'level': '3', 'points': '2400', 'created_on': '21/02/2021, 20:16:21', 'last_updated': '20/03/2021, 20:18:02', 'last_updated_timestamp': '1616282282', 'avatar': 'https://d3j0t7vrtr92dk.cloudfront.net/images/default_user.png', 'bio': None, 'login_key': 'https://humane.talentlms.com/index/autologin/key:475xnb4jtlbe4b9psrb416139493811'}\n",
      "{'id': '2', 'login': 'jmbenedetto1', 'first_name': 'Test1', 'last_name': 'teste 2', 'email': 'jmbenedetto@gmail.com', 'restrict_email': '0', 'user_type': 'Learner-Type', 'timezone': '(GMT -03:00) Sao Paulo, Brazil', 'language': 'Portuguese Brazil', 'status': 'active', 'deactivation_date': '', 'level': '1', 'points': '25', 'created_on': '20/03/2021, 11:21:29', 'last_updated': '20/03/2021, 11:22:32', 'last_updated_timestamp': '1616250152', 'avatar': 'https://d3j0t7vrtr92dk.cloudfront.net/images/default_user.png', 'bio': '', 'login_key': 'https://humane.talentlms.com/index/autologin/key:5wgarmtt641k9rni12ka16162500892'}\n"
     ]
    }
   ],
   "source": [
    "for user in users:\n",
    "    print(user)"
   ]
  },
  {
   "cell_type": "code",
   "execution_count": 29,
   "metadata": {
    "executionInfo": {
     "elapsed": 1229,
     "status": "ok",
     "timestamp": 1616289669772,
     "user": {
      "displayName": "João Miguel Benedetto",
      "photoUrl": "",
      "userId": "01429813854657997630"
     },
     "user_tz": 180
    },
    "id": "Omzfj656Xk6k"
   },
   "outputs": [],
   "source": [
    "df = pd.DataFrame(users)"
   ]
  },
  {
   "cell_type": "code",
   "execution_count": 30,
   "metadata": {
    "colab": {
     "base_uri": "https://localhost:8080/",
     "height": 250
    },
    "executionInfo": {
     "elapsed": 1353,
     "status": "ok",
     "timestamp": 1616289675235,
     "user": {
      "displayName": "João Miguel Benedetto",
      "photoUrl": "",
      "userId": "01429813854657997630"
     },
     "user_tz": 180
    },
    "id": "EUSh48-OXxv1",
    "outputId": "310ba33f-78fa-4b5e-ff22-5e4ce04b7dd1"
   },
   "outputs": [
    {
     "data": {
      "text/html": [
       "<div>\n",
       "<style scoped>\n",
       "    .dataframe tbody tr th:only-of-type {\n",
       "        vertical-align: middle;\n",
       "    }\n",
       "\n",
       "    .dataframe tbody tr th {\n",
       "        vertical-align: top;\n",
       "    }\n",
       "\n",
       "    .dataframe thead th {\n",
       "        text-align: right;\n",
       "    }\n",
       "</style>\n",
       "<table border=\"1\" class=\"dataframe\">\n",
       "  <thead>\n",
       "    <tr style=\"text-align: right;\">\n",
       "      <th></th>\n",
       "      <th>id</th>\n",
       "      <th>login</th>\n",
       "      <th>first_name</th>\n",
       "      <th>last_name</th>\n",
       "      <th>email</th>\n",
       "      <th>restrict_email</th>\n",
       "      <th>user_type</th>\n",
       "      <th>timezone</th>\n",
       "      <th>language</th>\n",
       "      <th>status</th>\n",
       "      <th>deactivation_date</th>\n",
       "      <th>level</th>\n",
       "      <th>points</th>\n",
       "      <th>created_on</th>\n",
       "      <th>last_updated</th>\n",
       "      <th>last_updated_timestamp</th>\n",
       "      <th>avatar</th>\n",
       "      <th>bio</th>\n",
       "      <th>login_key</th>\n",
       "    </tr>\n",
       "  </thead>\n",
       "  <tbody>\n",
       "    <tr>\n",
       "      <th>0</th>\n",
       "      <td>1</td>\n",
       "      <td>jmbenedetto</td>\n",
       "      <td>JM</td>\n",
       "      <td>Benedetto</td>\n",
       "      <td>jmbenedetto@byhumane.com</td>\n",
       "      <td>0</td>\n",
       "      <td>SuperAdmin</td>\n",
       "      <td>(GMT -03:00) Buenos Aires, Georgetown, Brasilia</td>\n",
       "      <td>English</td>\n",
       "      <td>active</td>\n",
       "      <td></td>\n",
       "      <td>3</td>\n",
       "      <td>2400</td>\n",
       "      <td>21/02/2021, 20:16:21</td>\n",
       "      <td>20/03/2021, 20:18:02</td>\n",
       "      <td>1616282282</td>\n",
       "      <td>https://d3j0t7vrtr92dk.cloudfront.net/images/d...</td>\n",
       "      <td>None</td>\n",
       "      <td>https://humane.talentlms.com/index/autologin/k...</td>\n",
       "    </tr>\n",
       "    <tr>\n",
       "      <th>1</th>\n",
       "      <td>2</td>\n",
       "      <td>jmbenedetto1</td>\n",
       "      <td>Test1</td>\n",
       "      <td>teste 2</td>\n",
       "      <td>jmbenedetto@gmail.com</td>\n",
       "      <td>0</td>\n",
       "      <td>Learner-Type</td>\n",
       "      <td>(GMT -03:00) Sao Paulo, Brazil</td>\n",
       "      <td>Portuguese Brazil</td>\n",
       "      <td>active</td>\n",
       "      <td></td>\n",
       "      <td>1</td>\n",
       "      <td>25</td>\n",
       "      <td>20/03/2021, 11:21:29</td>\n",
       "      <td>20/03/2021, 11:22:32</td>\n",
       "      <td>1616250152</td>\n",
       "      <td>https://d3j0t7vrtr92dk.cloudfront.net/images/d...</td>\n",
       "      <td></td>\n",
       "      <td>https://humane.talentlms.com/index/autologin/k...</td>\n",
       "    </tr>\n",
       "  </tbody>\n",
       "</table>\n",
       "</div>"
      ],
      "text/plain": [
       "  id         login  ...   bio                                          login_key\n",
       "0  1   jmbenedetto  ...  None  https://humane.talentlms.com/index/autologin/k...\n",
       "1  2  jmbenedetto1  ...        https://humane.talentlms.com/index/autologin/k...\n",
       "\n",
       "[2 rows x 19 columns]"
      ]
     },
     "execution_count": 30,
     "metadata": {
      "tags": []
     },
     "output_type": "execute_result"
    }
   ],
   "source": [
    "df"
   ]
  },
  {
   "cell_type": "code",
   "execution_count": 39,
   "metadata": {
    "colab": {
     "base_uri": "https://localhost:8080/",
     "height": 307
    },
    "executionInfo": {
     "elapsed": 838,
     "status": "error",
     "timestamp": 1616290046112,
     "user": {
      "displayName": "João Miguel Benedetto",
      "photoUrl": "",
      "userId": "01429813854657997630"
     },
     "user_tz": 180
    },
    "id": "k6eysaQOXy8H",
    "outputId": "3239a7a8-6c3e-4f60-a32b-a49ba7799698"
   },
   "outputs": [
    {
     "ename": "TalentLMSError",
     "evalue": "ignored",
     "output_type": "error",
     "traceback": [
      "\u001b[0;31m---------------------------------------------------------------------------\u001b[0m",
      "\u001b[0;31mTalentLMSError\u001b[0m                            Traceback (most recent call last)",
      "\u001b[0;32m<ipython-input-39-5173578f618c>\u001b[0m in \u001b[0;36m<module>\u001b[0;34m()\u001b[0m\n\u001b[0;32m----> 1\u001b[0;31m \u001b[0mlms\u001b[0m\u001b[0;34m.\u001b[0m\u001b[0mget\u001b[0m\u001b[0;34m(\u001b[0m\u001b[0;34m'users'\u001b[0m\u001b[0;34m,\u001b[0m\u001b[0;34m{\u001b[0m\u001b[0;34m'id'\u001b[0m\u001b[0;34m:\u001b[0m\u001b[0;34m[\u001b[0m\u001b[0;36m1\u001b[0m\u001b[0;34m,\u001b[0m\u001b[0;36m2\u001b[0m\u001b[0;34m]\u001b[0m\u001b[0;34m}\u001b[0m\u001b[0;34m)\u001b[0m\u001b[0;34m\u001b[0m\u001b[0;34m\u001b[0m\u001b[0m\n\u001b[0m",
      "\u001b[0;32m/usr/local/lib/python3.7/dist-packages/talentlms/talentlms.py\u001b[0m in \u001b[0;36mget\u001b[0;34m(self, method, params)\u001b[0m\n\u001b[1;32m     50\u001b[0m \u001b[0;34m\u001b[0m\u001b[0m\n\u001b[1;32m     51\u001b[0m         \u001b[0;32mif\u001b[0m \u001b[0mresult\u001b[0m \u001b[0;32mis\u001b[0m \u001b[0;32mnot\u001b[0m \u001b[0;32mNone\u001b[0m \u001b[0;32mand\u001b[0m \u001b[0;34m'error'\u001b[0m \u001b[0;32min\u001b[0m \u001b[0mresult\u001b[0m\u001b[0;34m:\u001b[0m\u001b[0;34m\u001b[0m\u001b[0;34m\u001b[0m\u001b[0m\n\u001b[0;32m---> 52\u001b[0;31m             \u001b[0mself\u001b[0m\u001b[0;34m.\u001b[0m\u001b[0mraise_error\u001b[0m\u001b[0;34m(\u001b[0m\u001b[0mresult\u001b[0m\u001b[0;34m[\u001b[0m\u001b[0;34m'error'\u001b[0m\u001b[0;34m]\u001b[0m\u001b[0;34m[\u001b[0m\u001b[0;34m'message'\u001b[0m\u001b[0;34m]\u001b[0m\u001b[0;34m,\u001b[0m \u001b[0mparams\u001b[0m\u001b[0;34m)\u001b[0m\u001b[0;34m\u001b[0m\u001b[0;34m\u001b[0m\u001b[0m\n\u001b[0m\u001b[1;32m     53\u001b[0m \u001b[0;34m\u001b[0m\u001b[0m\n\u001b[1;32m     54\u001b[0m         \u001b[0;32mreturn\u001b[0m \u001b[0mresult\u001b[0m\u001b[0;34m\u001b[0m\u001b[0;34m\u001b[0m\u001b[0m\n",
      "\u001b[0;32m/usr/local/lib/python3.7/dist-packages/talentlms/talentlms.py\u001b[0m in \u001b[0;36mraise_error\u001b[0;34m(self, message, params)\u001b[0m\n\u001b[1;32m     34\u001b[0m         \u001b[0me\u001b[0m \u001b[0;34m=\u001b[0m \u001b[0mexc_map\u001b[0m\u001b[0;34m.\u001b[0m\u001b[0mget\u001b[0m\u001b[0;34m(\u001b[0m\u001b[0mmessage\u001b[0m\u001b[0;34m,\u001b[0m \u001b[0mTalentLMSError\u001b[0m\u001b[0;34m)\u001b[0m\u001b[0;34m\u001b[0m\u001b[0;34m\u001b[0m\u001b[0m\n\u001b[1;32m     35\u001b[0m \u001b[0;34m\u001b[0m\u001b[0m\n\u001b[0;32m---> 36\u001b[0;31m         \u001b[0;32mraise\u001b[0m \u001b[0me\u001b[0m\u001b[0;34m(\u001b[0m\u001b[0mmessage\u001b[0m\u001b[0;34m,\u001b[0m \u001b[0mparams\u001b[0m\u001b[0;34m)\u001b[0m\u001b[0;34m\u001b[0m\u001b[0;34m\u001b[0m\u001b[0m\n\u001b[0m\u001b[1;32m     37\u001b[0m \u001b[0;34m\u001b[0m\u001b[0m\n\u001b[1;32m     38\u001b[0m     \u001b[0;32mdef\u001b[0m \u001b[0mget\u001b[0m\u001b[0;34m(\u001b[0m\u001b[0mself\u001b[0m\u001b[0;34m,\u001b[0m \u001b[0mmethod\u001b[0m\u001b[0;34m,\u001b[0m \u001b[0mparams\u001b[0m\u001b[0;34m=\u001b[0m\u001b[0;34m{\u001b[0m\u001b[0;34m}\u001b[0m\u001b[0;34m)\u001b[0m\u001b[0;34m:\u001b[0m\u001b[0;34m\u001b[0m\u001b[0;34m\u001b[0m\u001b[0m\n",
      "\u001b[0;31mTalentLMSError\u001b[0m: Invalid id: 0 {'id': [1, 2]}"
     ]
    }
   ],
   "source": [
    "lms.get(\"users\", {\"id\": [1, 2]})"
   ]
  },
  {
   "cell_type": "markdown",
   "metadata": {
    "id": "SbQpth2KZYJs"
   },
   "source": [
    "The api call to users without user_id brings only user master data. To get course data from the user, one must use the user_id at the request. This is impractical when the number of users increase beyond the number of courses (very fast)."
   ]
  },
  {
   "cell_type": "markdown",
   "metadata": {
    "id": "fk3xrCCYZwuu"
   },
   "source": [
    "## Understand course data"
   ]
  },
  {
   "cell_type": "code",
   "execution_count": 40,
   "metadata": {
    "colab": {
     "base_uri": "https://localhost:8080/"
    },
    "executionInfo": {
     "elapsed": 948,
     "status": "ok",
     "timestamp": 1616290202714,
     "user": {
      "displayName": "João Miguel Benedetto",
      "photoUrl": "",
      "userId": "01429813854657997630"
     },
     "user_tz": 180
    },
    "id": "wWls1T2VY0pF",
    "outputId": "6945aad4-838e-4a31-9af3-484e448109fe"
   },
   "outputs": [
    {
     "data": {
      "text/plain": [
       "[{'avatar': 'https://d3j0t7vrtr92dk.cloudfront.net/samplecourses/1548346699_toolkit.png?',\n",
       "  'big_avatar': 'https://d3j0t7vrtr92dk.cloudfront.net/samplecourses/1548346701_toolkit.png?',\n",
       "  'category_id': '3',\n",
       "  'certification': 'Fancy',\n",
       "  'certification_duration': 'Forever',\n",
       "  'code': '002',\n",
       "  'creation_date': '21/02/2021, 20:16:21',\n",
       "  'creator_id': '1',\n",
       "  'description': 'How do you become a TalentLMS super-user? With this brief training on some of the more advanced features of our platform. Dive in and see how you can save time when building a course.',\n",
       "  'expiration_datetime': None,\n",
       "  'hide_from_catalog': '0',\n",
       "  'id': '124',\n",
       "  'last_update_on': '21/02/2021, 20:16:21',\n",
       "  'level': None,\n",
       "  'name': 'Advanced Features of TalentLMS',\n",
       "  'price': 'R&#36;0.00',\n",
       "  'shared': '0',\n",
       "  'shared_url': '',\n",
       "  'status': 'active',\n",
       "  'time_limit': '0'},\n",
       " {'avatar': 'https://d3j0t7vrtr92dk.cloudfront.net/samplecourses/1548346713_content.png?',\n",
       "  'big_avatar': 'https://d3j0t7vrtr92dk.cloudfront.net/samplecourses/1548346715_content.png?',\n",
       "  'category_id': '3',\n",
       "  'certification': None,\n",
       "  'certification_duration': None,\n",
       "  'code': '003',\n",
       "  'creation_date': '21/02/2021, 20:16:21',\n",
       "  'creator_id': '1',\n",
       "  'description': 'When creating an online course, content is all you need! Take some time to find out the types of content available in TalentLMS. More than that, this course will give you an idea about how it feels to be a learner in our platform.',\n",
       "  'expiration_datetime': None,\n",
       "  'hide_from_catalog': '0',\n",
       "  'id': '46',\n",
       "  'last_update_on': '21/02/2021, 20:16:21',\n",
       "  'level': None,\n",
       "  'name': 'Content and TalentLMS',\n",
       "  'price': 'R&#36;0.00',\n",
       "  'shared': '0',\n",
       "  'shared_url': '',\n",
       "  'status': 'active',\n",
       "  'time_limit': '0'},\n",
       " {'avatar': 'https://d3j0t7vrtr92dk.cloudfront.net/samplecourses/1548346724_employees.png?',\n",
       "  'big_avatar': 'https://d3j0t7vrtr92dk.cloudfront.net/samplecourses/1548346726_employees.png?',\n",
       "  'category_id': '3',\n",
       "  'certification': None,\n",
       "  'certification_duration': None,\n",
       "  'code': '005',\n",
       "  'creation_date': '21/02/2021, 20:16:21',\n",
       "  'creator_id': '1',\n",
       "  'description': 'Investing in employees can be the smartest decision a business could ever make. In this course, you’ll learn what employee training is, some of the common types, and how you can become a trainer your employees will love.',\n",
       "  'expiration_datetime': None,\n",
       "  'hide_from_catalog': '0',\n",
       "  'id': '113',\n",
       "  'last_update_on': '21/02/2021, 20:16:21',\n",
       "  'level': None,\n",
       "  'name': 'Employee Training 101',\n",
       "  'price': 'R&#36;0.00',\n",
       "  'shared': '0',\n",
       "  'shared_url': '',\n",
       "  'status': 'active',\n",
       "  'time_limit': '0'},\n",
       " {'avatar': 'https://d3j0t7vrtr92dk.cloudfront.net/samplecourses/1548346736_fundamentals.png?',\n",
       "  'big_avatar': 'https://d3j0t7vrtr92dk.cloudfront.net/samplecourses/1548346737_fundamentals.png?',\n",
       "  'category_id': '3',\n",
       "  'certification': None,\n",
       "  'certification_duration': None,\n",
       "  'code': '004',\n",
       "  'creation_date': '21/02/2021, 20:16:21',\n",
       "  'creator_id': '1',\n",
       "  'description': \"This course raises some fundamental eLearning questions. What do you need to succeed as an online instructor? What strategies do eLearning gurus practice? By the end of this course, you'll have all the answers.\",\n",
       "  'expiration_datetime': None,\n",
       "  'hide_from_catalog': '0',\n",
       "  'id': '122',\n",
       "  'last_update_on': '21/02/2021, 20:16:21',\n",
       "  'level': None,\n",
       "  'name': 'Getting Started With eLearning',\n",
       "  'price': 'R&#36;0.00',\n",
       "  'shared': '0',\n",
       "  'shared_url': '',\n",
       "  'status': 'active',\n",
       "  'time_limit': '0'},\n",
       " {'avatar': 'https://d3j0t7vrtr92dk.cloudfront.net/samplecourses/1548346753_intro.png?',\n",
       "  'big_avatar': 'https://d3j0t7vrtr92dk.cloudfront.net/samplecourses/1548346755_intro.png?',\n",
       "  'category_id': '3',\n",
       "  'certification': 'Fancy',\n",
       "  'certification_duration': 'Forever',\n",
       "  'code': '001',\n",
       "  'creation_date': '21/02/2021, 20:16:21',\n",
       "  'creator_id': '1',\n",
       "  'description': 'Welcome to TalentLMS! Using new software can be more frustrating than starting a show in the middle of the season. Watch this 15-minute video course to get familiar with TalentLMS and get the most out of your shiny new account.',\n",
       "  'expiration_datetime': None,\n",
       "  'hide_from_catalog': '0',\n",
       "  'id': '123',\n",
       "  'last_update_on': '21/02/2021, 20:16:21',\n",
       "  'level': None,\n",
       "  'name': 'Introduction to TalentLMS',\n",
       "  'price': 'R&#36;0.00',\n",
       "  'shared': '0',\n",
       "  'shared_url': '',\n",
       "  'status': 'active',\n",
       "  'time_limit': '0'},\n",
       " {'avatar': 'https://d3j0t7vrtr92dk.cloudfront.net/samplecourses/1548346770_scorm.png?',\n",
       "  'big_avatar': 'https://d3j0t7vrtr92dk.cloudfront.net/samplecourses/1548346772_scorm.png?',\n",
       "  'category_id': '3',\n",
       "  'certification': None,\n",
       "  'certification_duration': None,\n",
       "  'code': '006',\n",
       "  'creation_date': '21/02/2021, 20:16:21',\n",
       "  'creator_id': '1',\n",
       "  'description': \"SCORM is the fastest, easiest way to make your interactive content work well with your LMS. This example course will teach you how SCORM material works inside the platform and how to perform CPR. Don't you just love killing two birds with one stone?\",\n",
       "  'expiration_datetime': None,\n",
       "  'hide_from_catalog': '0',\n",
       "  'id': '114',\n",
       "  'last_update_on': '21/02/2021, 20:16:21',\n",
       "  'level': None,\n",
       "  'name': 'This is a SCORM Example Course',\n",
       "  'price': 'R&#36;0.00',\n",
       "  'shared': '0',\n",
       "  'shared_url': '',\n",
       "  'status': 'active',\n",
       "  'time_limit': '0'}]"
      ]
     },
     "execution_count": 40,
     "metadata": {
      "tags": []
     },
     "output_type": "execute_result"
    }
   ],
   "source": [
    "lms.courses()"
   ]
  },
  {
   "cell_type": "code",
   "execution_count": 41,
   "metadata": {
    "colab": {
     "base_uri": "https://localhost:8080/"
    },
    "executionInfo": {
     "elapsed": 724,
     "status": "ok",
     "timestamp": 1616290233286,
     "user": {
      "displayName": "João Miguel Benedetto",
      "photoUrl": "",
      "userId": "01429813854657997630"
     },
     "user_tz": 180
    },
    "id": "4IJiD9vyZ0BU",
    "outputId": "3f5bc8e2-f9af-459e-ad1f-cde165989b85"
   },
   "outputs": [
    {
     "data": {
      "text/plain": [
       "{'avatar': 'https://d3j0t7vrtr92dk.cloudfront.net/samplecourses/1548346699_toolkit.png?',\n",
       " 'big_avatar': 'https://d3j0t7vrtr92dk.cloudfront.net/samplecourses/1548346701_toolkit.png?',\n",
       " 'category_id': '3',\n",
       " 'certification': 'Fancy',\n",
       " 'certification_duration': 'Forever',\n",
       " 'code': '002',\n",
       " 'creation_date': '21/02/2021, 20:16:21',\n",
       " 'creator_id': '1',\n",
       " 'description': 'How do you become a TalentLMS super-user? With this brief training on some of the more advanced features of our platform. Dive in and see how you can save time when building a course.',\n",
       " 'expiration_datetime': None,\n",
       " 'hide_from_catalog': '0',\n",
       " 'id': '124',\n",
       " 'last_update_on': '21/02/2021, 20:16:21',\n",
       " 'level': None,\n",
       " 'name': 'Advanced Features of TalentLMS',\n",
       " 'prerequisite_rule_sets': [],\n",
       " 'prerequisites': [],\n",
       " 'price': 'R&#36;0.00',\n",
       " 'rules': ['All units must be completed'],\n",
       " 'shared': '0',\n",
       " 'shared_url': '',\n",
       " 'status': 'active',\n",
       " 'time_limit': '0',\n",
       " 'units': [{'aggregated_delay_time': None,\n",
       "   'delay_time': None,\n",
       "   'formatted_aggregated_delay_time': None,\n",
       "   'id': '1993',\n",
       "   'name': 'Enhance your course',\n",
       "   'type': 'Section'},\n",
       "  {'id': '1994',\n",
       "   'name': 'How to add conferences',\n",
       "   'type': 'Video',\n",
       "   'url': 'https://humane.talentlms.com/unit/apiview/id:1994'},\n",
       "  {'id': '1995',\n",
       "   'name': 'How to create Instructor-led Training',\n",
       "   'type': 'Video',\n",
       "   'url': 'https://humane.talentlms.com/unit/apiview/id:1995'},\n",
       "  {'id': '1996',\n",
       "   'name': 'How to clone courses & units',\n",
       "   'type': 'Video',\n",
       "   'url': 'https://humane.talentlms.com/unit/apiview/id:1996'},\n",
       "  {'aggregated_delay_time': None,\n",
       "   'delay_time': None,\n",
       "   'formatted_aggregated_delay_time': None,\n",
       "   'id': '1997',\n",
       "   'name': 'Managing your users',\n",
       "   'type': 'Section'},\n",
       "  {'id': '1998',\n",
       "   'name': 'How to use Groups',\n",
       "   'type': 'Video',\n",
       "   'url': 'https://humane.talentlms.com/unit/apiview/id:1998'},\n",
       "  {'id': '1999',\n",
       "   'name': 'How to use Branches',\n",
       "   'type': 'Video',\n",
       "   'url': 'https://humane.talentlms.com/unit/apiview/id:1999'},\n",
       "  {'id': '2000',\n",
       "   'name': 'How to customize User Types',\n",
       "   'type': 'Video',\n",
       "   'url': 'https://humane.talentlms.com/unit/apiview/id:2000'},\n",
       "  {'aggregated_delay_time': None,\n",
       "   'delay_time': None,\n",
       "   'formatted_aggregated_delay_time': None,\n",
       "   'id': '2001',\n",
       "   'name': 'Advanced features',\n",
       "   'type': 'Section'},\n",
       "  {'id': '2002',\n",
       "   'name': 'How to work with Automations',\n",
       "   'type': 'Video',\n",
       "   'url': 'https://humane.talentlms.com/unit/apiview/id:2002'},\n",
       "  {'aggregated_delay_time': None,\n",
       "   'delay_time': None,\n",
       "   'formatted_aggregated_delay_time': None,\n",
       "   'id': '2003',\n",
       "   'name': 'Selling courses',\n",
       "   'type': 'Section'},\n",
       "  {'id': '2004',\n",
       "   'name': 'How to sell your courses',\n",
       "   'type': 'Video',\n",
       "   'url': 'https://humane.talentlms.com/unit/apiview/id:2004'}],\n",
       " 'users': [{'completed_on': '12/03/2021, 21:58:27',\n",
       "   'completed_on_timestamp': '1615597107',\n",
       "   'completion_percentage': '100',\n",
       "   'enrolled_on': '21/02/2021, 20:16:21',\n",
       "   'enrolled_on_timestamp': '1613949381',\n",
       "   'expired_on': '',\n",
       "   'expired_on_timestamp': None,\n",
       "   'id': '1',\n",
       "   'name': 'J. Benedetto',\n",
       "   'role': 'instructor',\n",
       "   'total_time': None,\n",
       "   'total_time_seconds': 0}]}"
      ]
     },
     "execution_count": 41,
     "metadata": {
      "tags": []
     },
     "output_type": "execute_result"
    }
   ],
   "source": [
    "lms.courses(124)"
   ]
  },
  {
   "cell_type": "markdown",
   "metadata": {
    "id": "up_wwMjFaE7W"
   },
   "source": [
    "Course api call withoout course_id returns only course master data. Passing the course_id to the api calls returns not only enrolled users with transactional data, but also the list of course units. As the number os courses should remain below the number of users, this seems to be the best path top get user-course enrolment and completion statistics."
   ]
  },
  {
   "cell_type": "code",
   "execution_count": null,
   "metadata": {
    "id": "87JKtGtfZ7io"
   },
   "outputs": [],
   "source": []
  }
 ],
 "metadata": {
  "colab": {
   "authorship_tag": "ABX9TyPzSBzkKiv7NxDo4lSLOXry",
   "collapsed_sections": [],
   "name": "1.0_jmb_EDA on TalentLMS API using talentlms.py_20210313_v1.ipynb",
   "provenance": [],
   "toc_visible": true
  },
  "kernelspec": {
   "display_name": "Python [conda env:talent-lms-integration]",
   "language": "python",
   "name": "conda-env-talent-lms-integration-py"
  },
  "language_info": {
   "codemirror_mode": {
    "name": "ipython",
    "version": 3
   },
   "file_extension": ".py",
   "mimetype": "text/x-python",
   "name": "python",
   "nbconvert_exporter": "python",
   "pygments_lexer": "ipython3",
   "version": "3.7.10"
  }
 },
 "nbformat": 4,
 "nbformat_minor": 4
}
