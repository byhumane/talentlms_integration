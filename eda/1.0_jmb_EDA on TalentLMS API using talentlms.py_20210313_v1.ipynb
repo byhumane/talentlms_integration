{
 "cells": [
  {
   "cell_type": "markdown",
   "metadata": {
    "id": "OAFIgxvt1xlq"
   },
   "source": [
    "# GOAL"
   ]
  },
  {
   "cell_type": "markdown",
   "metadata": {
    "id": "w4cR1pjI12IC"
   },
   "source": [
    "# DEFINTIONS"
   ]
  },
  {
   "cell_type": "markdown",
   "metadata": {
    "id": "nScU6pPt12Eq"
   },
   "source": [
    "# PACKAGES"
   ]
  },
  {
   "cell_type": "code",
   "execution_count": 3,
   "metadata": {
    "colab": {
     "base_uri": "https://localhost:8080/"
    },
    "collapsed": true,
    "executionInfo": {
     "elapsed": 3436,
     "status": "ok",
     "timestamp": 1616289651366,
     "user": {
      "displayName": "João Miguel Benedetto",
      "photoUrl": "",
      "userId": "01429813854657997630"
     },
     "user_tz": 180
    },
    "id": "yPaJHhlVsPbz",
    "jupyter": {
     "outputs_hidden": true
    },
    "outputId": "ba4d21fb-230d-412a-fe0c-69dd6db2f0a7",
    "tags": []
   },
   "outputs": [],
   "source": [
    "import talentlms\n",
    "import pandas as pd\n",
    "import yaml"
   ]
  },
  {
   "cell_type": "markdown",
   "metadata": {
    "id": "pL9ITTnw12BY"
   },
   "source": [
    "# PARAMETERS"
   ]
  },
  {
   "cell_type": "code",
   "execution_count": 4,
   "metadata": {
    "collapsed": true,
    "executionInfo": {
     "elapsed": 5489,
     "status": "ok",
     "timestamp": 1616286296012,
     "user": {
      "displayName": "João Miguel Benedetto",
      "photoUrl": "",
      "userId": "01429813854657997630"
     },
     "user_tz": 180
    },
    "id": "-3YdVUqN2jtN",
    "jupyter": {
     "outputs_hidden": true
    }
   },
   "outputs": [],
   "source": [
    "api_key = yaml.load(open(\"./keys/talentlms_api_key.yaml\"), Loader=yaml.BaseLoader)\n",
    "domain = \"humane.talentlms.com\"\n",
    "lms = talentlms.api(domain, api_key[\"api_key\"])"
   ]
  },
  {
   "cell_type": "markdown",
   "metadata": {
    "id": "BZ73CkrN2AAZ"
   },
   "source": [
    "# FUNCTIONS"
   ]
  },
  {
   "cell_type": "markdown",
   "metadata": {
    "id": "Fk_n2Umq2Pw5"
   },
   "source": [
    "# DATA WRANGLING"
   ]
  },
  {
   "cell_type": "markdown",
   "metadata": {
    "id": "2kkvrwYFW8EY"
   },
   "source": [
    "## Initial api data check"
   ]
  },
  {
   "cell_type": "code",
   "execution_count": 4,
   "metadata": {
    "colab": {
     "base_uri": "https://localhost:8080/"
    },
    "collapsed": true,
    "executionInfo": {
     "elapsed": 5860,
     "status": "ok",
     "timestamp": 1616286296395,
     "user": {
      "displayName": "João Miguel Benedetto",
      "photoUrl": "",
      "userId": "01429813854657997630"
     },
     "user_tz": 180
    },
    "id": "-cRYOTU670dZ",
    "jupyter": {
     "outputs_hidden": true
    },
    "outputId": "70fe9c24-e27a-4b9b-fdb5-038ab65b764c"
   },
   "outputs": [
    {
     "data": {
      "text/plain": [
       "[{'id': '1',\n",
       "  'login': 'jmbenedetto',\n",
       "  'first_name': 'JM',\n",
       "  'last_name': 'Benedetto',\n",
       "  'email': 'jmbenedetto@byhumane.com',\n",
       "  'restrict_email': '0',\n",
       "  'user_type': 'SuperAdmin',\n",
       "  'timezone': '(GMT -03:00) Buenos Aires, Georgetown, Brasilia',\n",
       "  'language': 'English',\n",
       "  'status': 'active',\n",
       "  'deactivation_date': '',\n",
       "  'level': '3',\n",
       "  'points': '2400',\n",
       "  'created_on': '21/02/2021, 20:16:21',\n",
       "  'last_updated': '30/03/2021, 11:55:42',\n",
       "  'last_updated_timestamp': '1617116142',\n",
       "  'avatar': 'https://d3j0t7vrtr92dk.cloudfront.net/images/default_user.png',\n",
       "  'bio': None,\n",
       "  'login_key': 'https://humane.talentlms.com/index/autologin/key:475xnb4jtlbe4b9psrb416139493811'},\n",
       " {'id': '2',\n",
       "  'login': 'jmbenedetto1',\n",
       "  'first_name': 'Test1',\n",
       "  'last_name': 'teste 2',\n",
       "  'email': 'jmbenedetto@gmail.com',\n",
       "  'restrict_email': '0',\n",
       "  'user_type': 'Learner-Type',\n",
       "  'timezone': '(GMT -03:00) Sao Paulo, Brazil',\n",
       "  'language': 'Portuguese Brazil',\n",
       "  'status': 'active',\n",
       "  'deactivation_date': '',\n",
       "  'level': '1',\n",
       "  'points': '25',\n",
       "  'created_on': '20/03/2021, 11:21:29',\n",
       "  'last_updated': '20/03/2021, 11:22:32',\n",
       "  'last_updated_timestamp': '1616250152',\n",
       "  'avatar': 'https://d3j0t7vrtr92dk.cloudfront.net/images/default_user.png',\n",
       "  'bio': '',\n",
       "  'login_key': 'https://humane.talentlms.com/index/autologin/key:5wgarmtt641k9rni12ka16162500892'}]"
      ]
     },
     "execution_count": 4,
     "metadata": {},
     "output_type": "execute_result"
    }
   ],
   "source": [
    "users = lms.users()\n",
    "users"
   ]
  },
  {
   "cell_type": "code",
   "execution_count": 5,
   "metadata": {
    "colab": {
     "base_uri": "https://localhost:8080/"
    },
    "collapsed": true,
    "executionInfo": {
     "elapsed": 6114,
     "status": "ok",
     "timestamp": 1616286296658,
     "user": {
      "displayName": "João Miguel Benedetto",
      "photoUrl": "",
      "userId": "01429813854657997630"
     },
     "user_tz": 180
    },
    "id": "ni4v4nkTDu-Y",
    "jupyter": {
     "outputs_hidden": true
    },
    "outputId": "115c9d51-b617-4511-aaab-1c3a66b3417a"
   },
   "outputs": [
    {
     "data": {
      "text/plain": [
       "{'avatar': 'https://d3j0t7vrtr92dk.cloudfront.net/images/default_user.png',\n",
       " 'badges': [{'badge_set_id': '1',\n",
       "   'criteria': '1 certification',\n",
       "   'image_url': 'https://d3j0t7vrtr92dk.cloudfront.net/images/badges/set1/certification/1.png',\n",
       "   'issued_on': '12/03/2021, 21:11:44',\n",
       "   'issued_on_timestamp': 1615594304,\n",
       "   'name': 'Certification Newbie',\n",
       "   'type': 'certification'},\n",
       "  {'badge_set_id': '1',\n",
       "   'criteria': '2 certifications',\n",
       "   'image_url': 'https://d3j0t7vrtr92dk.cloudfront.net/images/badges/set1/certification/2.png',\n",
       "   'issued_on': '12/03/2021, 21:58:28',\n",
       "   'issued_on_timestamp': 1615597108,\n",
       "   'name': 'Certification Grower',\n",
       "   'type': 'certification'},\n",
       "  {'badge_set_id': '1',\n",
       "   'criteria': '1 completed course',\n",
       "   'image_url': 'https://d3j0t7vrtr92dk.cloudfront.net/images/badges/set1/learning/1.png',\n",
       "   'issued_on': '12/03/2021, 21:11:44',\n",
       "   'issued_on_timestamp': 1615594304,\n",
       "   'name': 'Learning Newbie',\n",
       "   'type': 'learning'},\n",
       "  {'badge_set_id': '1',\n",
       "   'criteria': '2 completed courses',\n",
       "   'image_url': 'https://d3j0t7vrtr92dk.cloudfront.net/images/badges/set1/learning/2.png',\n",
       "   'issued_on': '12/03/2021, 21:25:08',\n",
       "   'issued_on_timestamp': 1615595108,\n",
       "   'name': 'Learning Grower',\n",
       "   'type': 'learning'},\n",
       "  {'badge_set_id': '1',\n",
       "   'criteria': '4 completed courses',\n",
       "   'image_url': 'https://d3j0t7vrtr92dk.cloudfront.net/images/badges/set1/learning/3.png',\n",
       "   'issued_on': '12/03/2021, 22:10:17',\n",
       "   'issued_on_timestamp': 1615597817,\n",
       "   'name': 'Learning Adventurer',\n",
       "   'type': 'learning'},\n",
       "  {'badge_set_id': '1',\n",
       "   'criteria': '1 passed test or assignment with score 90%+',\n",
       "   'image_url': 'https://d3j0t7vrtr92dk.cloudfront.net/images/badges/set1/perfectionism/1.png',\n",
       "   'issued_on': '12/03/2021, 22:28:11',\n",
       "   'issued_on_timestamp': 1615598891,\n",
       "   'name': 'Perfectionism Newbie',\n",
       "   'type': 'perfectionism'},\n",
       "  {'badge_set_id': '1',\n",
       "   'criteria': '1 completed survey',\n",
       "   'image_url': 'https://d3j0t7vrtr92dk.cloudfront.net/images/badges/set1/survey/1.png',\n",
       "   'issued_on': '12/03/2021, 22:28:34',\n",
       "   'issued_on_timestamp': 1615598914,\n",
       "   'name': 'Survey Newbie',\n",
       "   'type': 'survey'}],\n",
       " 'bio': None,\n",
       " 'branches': [],\n",
       " 'certifications': [{'course_id': '124',\n",
       "   'course_name': 'Advanced Features of TalentLMS (002)',\n",
       "   'download_url': 'https://humane.talentlms.com/user/downloadcertification/id:2',\n",
       "   'expiration_date': 'Never',\n",
       "   'expiration_date_timestamp': 0,\n",
       "   'issued_date': '12/03/2021',\n",
       "   'issued_date_timestamp': 1615597107,\n",
       "   'public_url': 'https://humane.talentlms.com/user/certification/sig:UPDYNcgxoVyiOQR-6Us82A.bzhFTEhzRDRkbGdnc1N0OGJtYUFRZz09',\n",
       "   'unique_id': '7ec1-76d3-4c2a-1451'},\n",
       "  {'course_id': '123',\n",
       "   'course_name': 'Introduction to TalentLMS (001)',\n",
       "   'download_url': 'https://humane.talentlms.com/user/downloadcertification/id:1',\n",
       "   'expiration_date': 'Never',\n",
       "   'expiration_date_timestamp': 0,\n",
       "   'issued_date': '12/03/2021',\n",
       "   'issued_date_timestamp': 1615594304,\n",
       "   'public_url': 'https://humane.talentlms.com/user/certification/sig:h12X5nlZ7Di8vnuPOFeMRA.YTBycnhRbStGK2I2LzhTdUM1RnBwUT09',\n",
       "   'unique_id': '4299-c7b3-114b-54da'}],\n",
       " 'courses': [{'completed_on': '12/03/2021, 21:58:27',\n",
       "   'completed_on_timestamp': '1615597107',\n",
       "   'completion_percentage': '100',\n",
       "   'completion_status': 'completed',\n",
       "   'completion_status_formatted': 'Completed',\n",
       "   'enrolled_on': '21/02/2021, 20:16:21',\n",
       "   'enrolled_on_timestamp': '1613949381',\n",
       "   'expired_on': '',\n",
       "   'expired_on_timestamp': None,\n",
       "   'id': '124',\n",
       "   'name': 'Advanced Features of TalentLMS (002)',\n",
       "   'role': 'instructor',\n",
       "   'total_time': None,\n",
       "   'total_time_seconds': 0},\n",
       "  {'completed_on': '12/03/2021, 22:28:11',\n",
       "   'completed_on_timestamp': '1615598891',\n",
       "   'completion_percentage': '100',\n",
       "   'completion_status': 'completed',\n",
       "   'completion_status_formatted': 'Completed',\n",
       "   'enrolled_on': '21/02/2021, 20:16:21',\n",
       "   'enrolled_on_timestamp': '1613949381',\n",
       "   'expired_on': '',\n",
       "   'expired_on_timestamp': None,\n",
       "   'id': '46',\n",
       "   'name': 'Content and TalentLMS (003)',\n",
       "   'role': 'instructor',\n",
       "   'total_time': None,\n",
       "   'total_time_seconds': 0},\n",
       "  {'completed_on': '12/03/2021, 22:10:17',\n",
       "   'completed_on_timestamp': '1615597817',\n",
       "   'completion_percentage': '100',\n",
       "   'completion_status': 'completed',\n",
       "   'completion_status_formatted': 'Completed',\n",
       "   'enrolled_on': '21/02/2021, 20:16:21',\n",
       "   'enrolled_on_timestamp': '1613949381',\n",
       "   'expired_on': '',\n",
       "   'expired_on_timestamp': None,\n",
       "   'id': '113',\n",
       "   'name': 'Employee Training 101 (005)',\n",
       "   'role': 'instructor',\n",
       "   'total_time': None,\n",
       "   'total_time_seconds': 0},\n",
       "  {'completed_on': '12/03/2021, 21:25:08',\n",
       "   'completed_on_timestamp': '1615595108',\n",
       "   'completion_percentage': '100',\n",
       "   'completion_status': 'completed',\n",
       "   'completion_status_formatted': 'Completed',\n",
       "   'enrolled_on': '21/02/2021, 20:16:21',\n",
       "   'enrolled_on_timestamp': '1613949381',\n",
       "   'expired_on': '',\n",
       "   'expired_on_timestamp': None,\n",
       "   'id': '122',\n",
       "   'name': 'Getting Started With eLearning (004)',\n",
       "   'role': 'instructor',\n",
       "   'total_time': None,\n",
       "   'total_time_seconds': 0},\n",
       "  {'completed_on': '12/03/2021, 21:11:44',\n",
       "   'completed_on_timestamp': '1615594304',\n",
       "   'completion_percentage': '100',\n",
       "   'completion_status': 'completed',\n",
       "   'completion_status_formatted': 'Completed',\n",
       "   'enrolled_on': '21/02/2021, 20:16:21',\n",
       "   'enrolled_on_timestamp': '1613949381',\n",
       "   'expired_on': '',\n",
       "   'expired_on_timestamp': None,\n",
       "   'id': '123',\n",
       "   'name': 'Introduction to TalentLMS (001)',\n",
       "   'role': 'instructor',\n",
       "   'total_time': None,\n",
       "   'total_time_seconds': 0},\n",
       "  {'completed_on': '12/03/2021, 22:32:59',\n",
       "   'completed_on_timestamp': '1615599179',\n",
       "   'completion_percentage': '100',\n",
       "   'completion_status': 'completed',\n",
       "   'completion_status_formatted': 'Completed',\n",
       "   'enrolled_on': '21/02/2021, 20:16:21',\n",
       "   'enrolled_on_timestamp': '1613949381',\n",
       "   'expired_on': '',\n",
       "   'expired_on_timestamp': None,\n",
       "   'id': '114',\n",
       "   'name': 'This is a SCORM Example Course (006)',\n",
       "   'role': 'instructor',\n",
       "   'total_time': None,\n",
       "   'total_time_seconds': 0}],\n",
       " 'created_on': '21/02/2021, 20:16:21',\n",
       " 'deactivation_date': '',\n",
       " 'email': 'jmbenedetto@byhumane.com',\n",
       " 'first_name': 'JM',\n",
       " 'groups': [],\n",
       " 'id': '1',\n",
       " 'language': 'English',\n",
       " 'last_name': 'Benedetto',\n",
       " 'last_updated': '20/03/2021, 20:18:02',\n",
       " 'last_updated_timestamp': '1616282282',\n",
       " 'level': '3',\n",
       " 'login': 'jmbenedetto',\n",
       " 'login_key': 'https://humane.talentlms.com/index/autologin/key:475xnb4jtlbe4b9psrb416139493811',\n",
       " 'points': '2400',\n",
       " 'restrict_email': '0',\n",
       " 'status': 'active',\n",
       " 'timezone': '(GMT -03:00) Buenos Aires, Georgetown, Brasilia',\n",
       " 'user_type': 'SuperAdmin'}"
      ]
     },
     "execution_count": 5,
     "metadata": {
      "tags": []
     },
     "output_type": "execute_result"
    }
   ],
   "source": [
    "lms.users(1)"
   ]
  },
  {
   "cell_type": "code",
   "execution_count": 10,
   "metadata": {
    "colab": {
     "base_uri": "https://localhost:8080/"
    },
    "collapsed": true,
    "executionInfo": {
     "elapsed": 6344,
     "status": "ok",
     "timestamp": 1616286296898,
     "user": {
      "displayName": "João Miguel Benedetto",
      "photoUrl": "",
      "userId": "01429813854657997630"
     },
     "user_tz": 180
    },
    "id": "NsVhs2zIItcu",
    "jupyter": {
     "outputs_hidden": true
    },
    "outputId": "11b156ac-8e93-4abd-e029-6b4dd8e8594f"
   },
   "outputs": [
    {
     "data": {
      "text/plain": [
       "[{'id': '124',\n",
       "  'name': 'Advanced Features of TalentLMS',\n",
       "  'code': '002',\n",
       "  'category_id': '3',\n",
       "  'description': 'How do you become a TalentLMS super-user? With this brief training on some of the more advanced features of our platform. Dive in and see how you can save time when building a course.',\n",
       "  'price': 'R&#36;0.00',\n",
       "  'status': 'active',\n",
       "  'creation_date': '21/02/2021, 20:16:21',\n",
       "  'last_update_on': '21/02/2021, 20:16:21',\n",
       "  'creator_id': '1',\n",
       "  'hide_from_catalog': '0',\n",
       "  'time_limit': '0',\n",
       "  'expiration_datetime': None,\n",
       "  'level': None,\n",
       "  'shared': '0',\n",
       "  'shared_url': '',\n",
       "  'avatar': 'https://d3j0t7vrtr92dk.cloudfront.net/samplecourses/1548346699_toolkit.png?',\n",
       "  'big_avatar': 'https://d3j0t7vrtr92dk.cloudfront.net/samplecourses/1548346701_toolkit.png?',\n",
       "  'certification': 'Fancy',\n",
       "  'certification_duration': 'Forever'},\n",
       " {'id': '46',\n",
       "  'name': 'Content and TalentLMS',\n",
       "  'code': '003',\n",
       "  'category_id': '3',\n",
       "  'description': 'When creating an online course, content is all you need! Take some time to find out the types of content available in TalentLMS. More than that, this course will give you an idea about how it feels to be a learner in our platform.',\n",
       "  'price': 'R&#36;0.00',\n",
       "  'status': 'active',\n",
       "  'creation_date': '21/02/2021, 20:16:21',\n",
       "  'last_update_on': '21/02/2021, 20:16:21',\n",
       "  'creator_id': '1',\n",
       "  'hide_from_catalog': '0',\n",
       "  'time_limit': '0',\n",
       "  'expiration_datetime': None,\n",
       "  'level': None,\n",
       "  'shared': '0',\n",
       "  'shared_url': '',\n",
       "  'avatar': 'https://d3j0t7vrtr92dk.cloudfront.net/samplecourses/1548346713_content.png?',\n",
       "  'big_avatar': 'https://d3j0t7vrtr92dk.cloudfront.net/samplecourses/1548346715_content.png?',\n",
       "  'certification': None,\n",
       "  'certification_duration': None},\n",
       " {'id': '113',\n",
       "  'name': 'Employee Training 101',\n",
       "  'code': '005',\n",
       "  'category_id': '3',\n",
       "  'description': 'Investing in employees can be the smartest decision a business could ever make. In this course, you’ll learn what employee training is, some of the common types, and how you can become a trainer your employees will love.',\n",
       "  'price': 'R&#36;0.00',\n",
       "  'status': 'active',\n",
       "  'creation_date': '21/02/2021, 20:16:21',\n",
       "  'last_update_on': '21/02/2021, 20:16:21',\n",
       "  'creator_id': '1',\n",
       "  'hide_from_catalog': '0',\n",
       "  'time_limit': '0',\n",
       "  'expiration_datetime': None,\n",
       "  'level': None,\n",
       "  'shared': '0',\n",
       "  'shared_url': '',\n",
       "  'avatar': 'https://d3j0t7vrtr92dk.cloudfront.net/samplecourses/1548346724_employees.png?',\n",
       "  'big_avatar': 'https://d3j0t7vrtr92dk.cloudfront.net/samplecourses/1548346726_employees.png?',\n",
       "  'certification': None,\n",
       "  'certification_duration': None},\n",
       " {'id': '122',\n",
       "  'name': 'Getting Started With eLearning',\n",
       "  'code': '004',\n",
       "  'category_id': '3',\n",
       "  'description': \"This course raises some fundamental eLearning questions. What do you need to succeed as an online instructor? What strategies do eLearning gurus practice? By the end of this course, you'll have all the answers.\",\n",
       "  'price': 'R&#36;0.00',\n",
       "  'status': 'active',\n",
       "  'creation_date': '21/02/2021, 20:16:21',\n",
       "  'last_update_on': '21/02/2021, 20:16:21',\n",
       "  'creator_id': '1',\n",
       "  'hide_from_catalog': '0',\n",
       "  'time_limit': '0',\n",
       "  'expiration_datetime': None,\n",
       "  'level': None,\n",
       "  'shared': '0',\n",
       "  'shared_url': '',\n",
       "  'avatar': 'https://d3j0t7vrtr92dk.cloudfront.net/samplecourses/1548346736_fundamentals.png?',\n",
       "  'big_avatar': 'https://d3j0t7vrtr92dk.cloudfront.net/samplecourses/1548346737_fundamentals.png?',\n",
       "  'certification': None,\n",
       "  'certification_duration': None},\n",
       " {'id': '123',\n",
       "  'name': 'Introduction to TalentLMS',\n",
       "  'code': '001',\n",
       "  'category_id': '3',\n",
       "  'description': 'Welcome to TalentLMS! Using new software can be more frustrating than starting a show in the middle of the season. Watch this 15-minute video course to get familiar with TalentLMS and get the most out of your shiny new account.',\n",
       "  'price': 'R&#36;0.00',\n",
       "  'status': 'active',\n",
       "  'creation_date': '21/02/2021, 20:16:21',\n",
       "  'last_update_on': '21/02/2021, 20:16:21',\n",
       "  'creator_id': '1',\n",
       "  'hide_from_catalog': '0',\n",
       "  'time_limit': '0',\n",
       "  'expiration_datetime': None,\n",
       "  'level': None,\n",
       "  'shared': '0',\n",
       "  'shared_url': '',\n",
       "  'avatar': 'https://d3j0t7vrtr92dk.cloudfront.net/samplecourses/1548346753_intro.png?',\n",
       "  'big_avatar': 'https://d3j0t7vrtr92dk.cloudfront.net/samplecourses/1548346755_intro.png?',\n",
       "  'certification': 'Fancy',\n",
       "  'certification_duration': 'Forever'},\n",
       " {'id': '114',\n",
       "  'name': 'This is a SCORM Example Course',\n",
       "  'code': '006',\n",
       "  'category_id': '3',\n",
       "  'description': \"SCORM is the fastest, easiest way to make your interactive content work well with your LMS. This example course will teach you how SCORM material works inside the platform and how to perform CPR. Don't you just love killing two birds with one stone?\",\n",
       "  'price': 'R&#36;0.00',\n",
       "  'status': 'active',\n",
       "  'creation_date': '21/02/2021, 20:16:21',\n",
       "  'last_update_on': '21/02/2021, 20:16:21',\n",
       "  'creator_id': '1',\n",
       "  'hide_from_catalog': '0',\n",
       "  'time_limit': '0',\n",
       "  'expiration_datetime': None,\n",
       "  'level': None,\n",
       "  'shared': '0',\n",
       "  'shared_url': '',\n",
       "  'avatar': 'https://d3j0t7vrtr92dk.cloudfront.net/samplecourses/1548346770_scorm.png?',\n",
       "  'big_avatar': 'https://d3j0t7vrtr92dk.cloudfront.net/samplecourses/1548346772_scorm.png?',\n",
       "  'certification': None,\n",
       "  'certification_duration': None}]"
      ]
     },
     "execution_count": 10,
     "metadata": {},
     "output_type": "execute_result"
    }
   ],
   "source": [
    "lms.get(\"courses\")"
   ]
  },
  {
   "cell_type": "code",
   "execution_count": 11,
   "metadata": {
    "colab": {
     "base_uri": "https://localhost:8080/"
    },
    "collapsed": true,
    "executionInfo": {
     "elapsed": 6598,
     "status": "ok",
     "timestamp": 1616286297162,
     "user": {
      "displayName": "João Miguel Benedetto",
      "photoUrl": "",
      "userId": "01429813854657997630"
     },
     "user_tz": 180
    },
    "id": "_Zxv5MH3MRgV",
    "jupyter": {
     "outputs_hidden": true
    },
    "outputId": "c051201d-39dc-408c-d32e-7338d379b452"
   },
   "outputs": [
    {
     "data": {
      "text/plain": [
       "{'id': '124',\n",
       " 'name': 'Advanced Features of TalentLMS',\n",
       " 'code': '002',\n",
       " 'category_id': '3',\n",
       " 'description': 'How do you become a TalentLMS super-user? With this brief training on some of the more advanced features of our platform. Dive in and see how you can save time when building a course.',\n",
       " 'price': 'R&#36;0.00',\n",
       " 'status': 'active',\n",
       " 'creation_date': '21/02/2021, 20:16:21',\n",
       " 'last_update_on': '21/02/2021, 20:16:21',\n",
       " 'creator_id': '1',\n",
       " 'hide_from_catalog': '0',\n",
       " 'time_limit': '0',\n",
       " 'expiration_datetime': None,\n",
       " 'level': None,\n",
       " 'shared': '0',\n",
       " 'shared_url': '',\n",
       " 'avatar': 'https://d3j0t7vrtr92dk.cloudfront.net/samplecourses/1548346699_toolkit.png?',\n",
       " 'big_avatar': 'https://d3j0t7vrtr92dk.cloudfront.net/samplecourses/1548346701_toolkit.png?',\n",
       " 'certification': 'Fancy',\n",
       " 'certification_duration': 'Forever',\n",
       " 'users': [{'id': '1',\n",
       "   'name': 'J. Benedetto',\n",
       "   'role': 'instructor',\n",
       "   'enrolled_on': '21/02/2021, 20:16:21',\n",
       "   'enrolled_on_timestamp': '1613949381',\n",
       "   'completed_on': '12/03/2021, 21:58:27',\n",
       "   'completed_on_timestamp': '1615597107',\n",
       "   'completion_percentage': '100',\n",
       "   'expired_on': '',\n",
       "   'expired_on_timestamp': None,\n",
       "   'total_time': None,\n",
       "   'total_time_seconds': 0}],\n",
       " 'units': [{'id': '1993',\n",
       "   'type': 'Section',\n",
       "   'name': 'Enhance your course',\n",
       "   'delay_time': None,\n",
       "   'aggregated_delay_time': None,\n",
       "   'formatted_aggregated_delay_time': None},\n",
       "  {'id': '1994',\n",
       "   'type': 'Video',\n",
       "   'name': 'How to add conferences',\n",
       "   'url': 'https://humane.talentlms.com/unit/apiview/id:1994'},\n",
       "  {'id': '1995',\n",
       "   'type': 'Video',\n",
       "   'name': 'How to create Instructor-led Training',\n",
       "   'url': 'https://humane.talentlms.com/unit/apiview/id:1995'},\n",
       "  {'id': '1996',\n",
       "   'type': 'Video',\n",
       "   'name': 'How to clone courses & units',\n",
       "   'url': 'https://humane.talentlms.com/unit/apiview/id:1996'},\n",
       "  {'id': '1997',\n",
       "   'type': 'Section',\n",
       "   'name': 'Managing your users',\n",
       "   'delay_time': None,\n",
       "   'aggregated_delay_time': None,\n",
       "   'formatted_aggregated_delay_time': None},\n",
       "  {'id': '1998',\n",
       "   'type': 'Video',\n",
       "   'name': 'How to use Groups',\n",
       "   'url': 'https://humane.talentlms.com/unit/apiview/id:1998'},\n",
       "  {'id': '1999',\n",
       "   'type': 'Video',\n",
       "   'name': 'How to use Branches',\n",
       "   'url': 'https://humane.talentlms.com/unit/apiview/id:1999'},\n",
       "  {'id': '2000',\n",
       "   'type': 'Video',\n",
       "   'name': 'How to customize User Types',\n",
       "   'url': 'https://humane.talentlms.com/unit/apiview/id:2000'},\n",
       "  {'id': '2001',\n",
       "   'type': 'Section',\n",
       "   'name': 'Advanced features',\n",
       "   'delay_time': None,\n",
       "   'aggregated_delay_time': None,\n",
       "   'formatted_aggregated_delay_time': None},\n",
       "  {'id': '2002',\n",
       "   'type': 'Video',\n",
       "   'name': 'How to work with Automations',\n",
       "   'url': 'https://humane.talentlms.com/unit/apiview/id:2002'},\n",
       "  {'id': '2003',\n",
       "   'type': 'Section',\n",
       "   'name': 'Selling courses',\n",
       "   'delay_time': None,\n",
       "   'aggregated_delay_time': None,\n",
       "   'formatted_aggregated_delay_time': None},\n",
       "  {'id': '2004',\n",
       "   'type': 'Video',\n",
       "   'name': 'How to sell your courses',\n",
       "   'url': 'https://humane.talentlms.com/unit/apiview/id:2004'}],\n",
       " 'rules': ['All units must be completed'],\n",
       " 'prerequisites': [],\n",
       " 'prerequisite_rule_sets': []}"
      ]
     },
     "execution_count": 11,
     "metadata": {},
     "output_type": "execute_result"
    }
   ],
   "source": [
    "lms.get(\"courses\", params={\"id\": 124})"
   ]
  },
  {
   "cell_type": "code",
   "execution_count": 8,
   "metadata": {
    "colab": {
     "base_uri": "https://localhost:8080/"
    },
    "collapsed": true,
    "executionInfo": {
     "elapsed": 6871,
     "status": "ok",
     "timestamp": 1616286297444,
     "user": {
      "displayName": "João Miguel Benedetto",
      "photoUrl": "",
      "userId": "01429813854657997630"
     },
     "user_tz": 180
    },
    "id": "cimjhKsFM5Gy",
    "jupyter": {
     "outputs_hidden": true
    },
    "outputId": "da125af3-0f47-45f9-9e4c-da44d0784a9c"
   },
   "outputs": [
    {
     "data": {
      "text/plain": [
       "{'score': '100', 'status': 'Completed', 'user_id': '1'}"
      ]
     },
     "execution_count": 8,
     "metadata": {
      "tags": []
     },
     "output_type": "execute_result"
    }
   ],
   "source": [
    "lms.get(\"getusersprogressinunits\", params={\"unit_id\": 1996, \"user_id\": 1})"
   ]
  },
  {
   "cell_type": "code",
   "execution_count": 12,
   "metadata": {
    "colab": {
     "base_uri": "https://localhost:8080/"
    },
    "collapsed": true,
    "executionInfo": {
     "elapsed": 813,
     "status": "ok",
     "timestamp": 1616288300157,
     "user": {
      "displayName": "João Miguel Benedetto",
      "photoUrl": "",
      "userId": "01429813854657997630"
     },
     "user_tz": 180
    },
    "id": "DkyUK4cyUKju",
    "jupyter": {
     "outputs_hidden": true
    },
    "outputId": "a8a9da1b-384a-4c06-c53b-1cd7f800b6a4"
   },
   "outputs": [
    {
     "data": {
      "text/plain": [
       "{'formatted_reset': '20/03/2021, 22:24',\n",
       " 'limit': '50',\n",
       " 'remaining': 45,\n",
       " 'reset': '1616289898'}"
      ]
     },
     "execution_count": 12,
     "metadata": {
      "tags": []
     },
     "output_type": "execute_result"
    }
   ],
   "source": [
    "lms.ratelimit()"
   ]
  },
  {
   "cell_type": "code",
   "execution_count": 36,
   "metadata": {
    "collapsed": true,
    "jupyter": {
     "outputs_hidden": true
    }
   },
   "outputs": [
    {
     "data": {
      "text/plain": [
       "[{'id': '1',\n",
       "  'name': 'test1',\n",
       "  'description': 'group test',\n",
       "  'key': None,\n",
       "  'price': 'R&#36;0.00',\n",
       "  'owner_id': '1',\n",
       "  'belongs_to_branch': None,\n",
       "  'max_redemptions': None,\n",
       "  'redemptions_sofar': None}]"
      ]
     },
     "execution_count": 36,
     "metadata": {},
     "output_type": "execute_result"
    }
   ],
   "source": [
    "lms.groups()"
   ]
  },
  {
   "cell_type": "code",
   "execution_count": 37,
   "metadata": {
    "collapsed": true,
    "jupyter": {
     "outputs_hidden": true
    }
   },
   "outputs": [
    {
     "data": {
      "text/plain": [
       "[{'id': '1',\n",
       "  'name': 'client1',\n",
       "  'description': 'branch for client 1',\n",
       "  'avatar': 'https://cdn.talentlms.com/humane/1615673261_full_trimmed_transparent_base.png?Policy=eyJTdGF0ZW1lbnQiOlt7IlJlc291cmNlIjoiaHR0cHM6XC9cL2Nkbi50YWxlbnRsbXMuY29tXC9odW1hbmVcLzE2MTU2NzMyNjFfZnVsbF90cmltbWVkX3RyYW5zcGFyZW50X2Jhc2UucG5nIiwiQ29uZGl0aW9uIjp7IkRhdGVMZXNzVGhhbiI6eyJBV1M6RXBvY2hUaW1lIjoxNjE4NzQ3MjAwfX19XX0_&Signature=dybnEY9R6N-vac9LVuwQet75MOmBnso8n4xsp14kyZG10OiVlNrJKp%2F5H9VP3HnUirrc0j91YYmr%2FGYMlSODVCFXG3s0XskDbqX7euwT%2F0sRpuOk8V0qXW9a5p5ySXRZ2ShHbmNmoRa2VCzy1b3HJgitXkCnitqnGU2V29idkLfGaAzgoqCBgGh04T555ZLDcDsBqY%2FDkmjBBQSCBD4RJNivKuiBKkb3wyztcPYW-AGm-C5TVt%2FQx9hbiEVt591j0J9uPzC5tk9ar5mIIyLaK0%2FqBjkM7oqUozsQiqBj2aU3BQgrDcoWFD8k0LpgxMoHxbzVTJAKEQSDpBf2ZTPqsg__&Key-Pair-Id=APKAJDCWVQTW4P3KI3XA',\n",
       "  'theme': 'Default',\n",
       "  'badge_set_id': '1',\n",
       "  'timezone': '(GMT -03:00) Sao Paulo, Brazil',\n",
       "  'signup_method': 'manual',\n",
       "  'internal_announcement': '',\n",
       "  'external_announcement': '',\n",
       "  'language': 'pt_br',\n",
       "  'user_type_id': '4',\n",
       "  'user_type': 'Learner-Type',\n",
       "  'group_id': None,\n",
       "  'registration_email_restriction': None,\n",
       "  'users_limit': None,\n",
       "  'disallow_global_login': '0',\n",
       "  'payment_processor': '',\n",
       "  'currency': 'Brazilian Real',\n",
       "  'paypal_email': '',\n",
       "  'ecommerce_subscription': '0',\n",
       "  'ecommerce_subscription_price': '0',\n",
       "  'ecommerce_subscription_interval': '',\n",
       "  'ecommerce_subscription_trial_period': '0',\n",
       "  'ecommerce_credits': '0'}]"
      ]
     },
     "execution_count": 37,
     "metadata": {},
     "output_type": "execute_result"
    }
   ],
   "source": [
    "lms.branches()"
   ]
  },
  {
   "cell_type": "markdown",
   "metadata": {
    "id": "sPoHzv8SXCok"
   },
   "source": [
    "## Understand user data"
   ]
  },
  {
   "cell_type": "code",
   "execution_count": 23,
   "metadata": {
    "colab": {
     "base_uri": "https://localhost:8080/"
    },
    "collapsed": true,
    "executionInfo": {
     "elapsed": 824,
     "status": "ok",
     "timestamp": 1616289578207,
     "user": {
      "displayName": "João Miguel Benedetto",
      "photoUrl": "",
      "userId": "01429813854657997630"
     },
     "user_tz": 180
    },
    "id": "sSM8ka0vSjkL",
    "jupyter": {
     "outputs_hidden": true
    },
    "outputId": "7df68b36-97af-4c9e-af09-5d5ff6b0add0"
   },
   "outputs": [
    {
     "data": {
      "text/plain": [
       "[{'id': '1',\n",
       "  'login': 'jmbenedetto',\n",
       "  'first_name': 'JM',\n",
       "  'last_name': 'Benedetto',\n",
       "  'email': 'jmbenedetto@byhumane.com',\n",
       "  'restrict_email': '0',\n",
       "  'user_type': 'SuperAdmin',\n",
       "  'timezone': '(GMT -03:00) Buenos Aires, Georgetown, Brasilia',\n",
       "  'language': 'English',\n",
       "  'status': 'active',\n",
       "  'deactivation_date': '',\n",
       "  'level': '3',\n",
       "  'points': '2400',\n",
       "  'created_on': '21/02/2021, 20:16:21',\n",
       "  'last_updated': '17/04/2021, 20:00:36',\n",
       "  'last_updated_timestamp': '1618700436',\n",
       "  'avatar': 'https://d3j0t7vrtr92dk.cloudfront.net/images/default_user.png',\n",
       "  'bio': None,\n",
       "  'login_key': 'https://humane.talentlms.com/index/autologin/key:475xnb4jtlbe4b9psrb416139493811'},\n",
       " {'id': '2',\n",
       "  'login': 'jmbenedetto1',\n",
       "  'first_name': 'Test1',\n",
       "  'last_name': 'teste 2',\n",
       "  'email': 'jmbenedetto@gmail.com',\n",
       "  'restrict_email': '0',\n",
       "  'user_type': 'Learner-Type',\n",
       "  'timezone': '(GMT -03:00) Sao Paulo, Brazil',\n",
       "  'language': 'Portuguese Brazil',\n",
       "  'status': 'active',\n",
       "  'deactivation_date': '',\n",
       "  'level': '1',\n",
       "  'points': '25',\n",
       "  'created_on': '20/03/2021, 11:21:29',\n",
       "  'last_updated': '20/03/2021, 11:22:32',\n",
       "  'last_updated_timestamp': '1616250152',\n",
       "  'avatar': 'https://d3j0t7vrtr92dk.cloudfront.net/images/default_user.png',\n",
       "  'bio': '',\n",
       "  'login_key': 'https://humane.talentlms.com/index/autologin/key:5wgarmtt641k9rni12ka16162500892'}]"
      ]
     },
     "execution_count": 23,
     "metadata": {},
     "output_type": "execute_result"
    }
   ],
   "source": [
    "users = lms.users()\n",
    "users"
   ]
  },
  {
   "cell_type": "code",
   "execution_count": 25,
   "metadata": {
    "colab": {
     "base_uri": "https://localhost:8080/"
    },
    "collapsed": true,
    "executionInfo": {
     "elapsed": 577,
     "status": "ok",
     "timestamp": 1616289589265,
     "user": {
      "displayName": "João Miguel Benedetto",
      "photoUrl": "",
      "userId": "01429813854657997630"
     },
     "user_tz": 180
    },
    "id": "eq_Dx1WCXbll",
    "jupyter": {
     "outputs_hidden": true
    },
    "outputId": "9187b110-6124-4ec1-c8a3-71c3d0c1f8c3"
   },
   "outputs": [
    {
     "data": {
      "text/plain": [
       "list"
      ]
     },
     "execution_count": 25,
     "metadata": {
      "tags": []
     },
     "output_type": "execute_result"
    }
   ],
   "source": [
    "type(users)"
   ]
  },
  {
   "cell_type": "code",
   "execution_count": 26,
   "metadata": {
    "colab": {
     "base_uri": "https://localhost:8080/"
    },
    "collapsed": true,
    "executionInfo": {
     "elapsed": 400,
     "status": "ok",
     "timestamp": 1616289598735,
     "user": {
      "displayName": "João Miguel Benedetto",
      "photoUrl": "",
      "userId": "01429813854657997630"
     },
     "user_tz": 180
    },
    "id": "C7qTVrrkXeWJ",
    "jupyter": {
     "outputs_hidden": true
    },
    "outputId": "0c6b166e-cd02-4756-c8c9-2c8c332d04c2"
   },
   "outputs": [
    {
     "data": {
      "text/plain": [
       "2"
      ]
     },
     "execution_count": 26,
     "metadata": {
      "tags": []
     },
     "output_type": "execute_result"
    }
   ],
   "source": [
    "len(users)"
   ]
  },
  {
   "cell_type": "code",
   "execution_count": 27,
   "metadata": {
    "colab": {
     "base_uri": "https://localhost:8080/"
    },
    "collapsed": true,
    "executionInfo": {
     "elapsed": 1303,
     "status": "ok",
     "timestamp": 1616289617852,
     "user": {
      "displayName": "João Miguel Benedetto",
      "photoUrl": "",
      "userId": "01429813854657997630"
     },
     "user_tz": 180
    },
    "id": "kjelyo3wXgsF",
    "jupyter": {
     "outputs_hidden": true
    },
    "outputId": "0546ad99-1050-4847-929d-8dc9fee74f51"
   },
   "outputs": [
    {
     "name": "stdout",
     "output_type": "stream",
     "text": [
      "{'id': '1', 'login': 'jmbenedetto', 'first_name': 'JM', 'last_name': 'Benedetto', 'email': 'jmbenedetto@byhumane.com', 'restrict_email': '0', 'user_type': 'SuperAdmin', 'timezone': '(GMT -03:00) Buenos Aires, Georgetown, Brasilia', 'language': 'English', 'status': 'active', 'deactivation_date': '', 'level': '3', 'points': '2400', 'created_on': '21/02/2021, 20:16:21', 'last_updated': '20/03/2021, 20:18:02', 'last_updated_timestamp': '1616282282', 'avatar': 'https://d3j0t7vrtr92dk.cloudfront.net/images/default_user.png', 'bio': None, 'login_key': 'https://humane.talentlms.com/index/autologin/key:475xnb4jtlbe4b9psrb416139493811'}\n",
      "{'id': '2', 'login': 'jmbenedetto1', 'first_name': 'Test1', 'last_name': 'teste 2', 'email': 'jmbenedetto@gmail.com', 'restrict_email': '0', 'user_type': 'Learner-Type', 'timezone': '(GMT -03:00) Sao Paulo, Brazil', 'language': 'Portuguese Brazil', 'status': 'active', 'deactivation_date': '', 'level': '1', 'points': '25', 'created_on': '20/03/2021, 11:21:29', 'last_updated': '20/03/2021, 11:22:32', 'last_updated_timestamp': '1616250152', 'avatar': 'https://d3j0t7vrtr92dk.cloudfront.net/images/default_user.png', 'bio': '', 'login_key': 'https://humane.talentlms.com/index/autologin/key:5wgarmtt641k9rni12ka16162500892'}\n"
     ]
    }
   ],
   "source": [
    "for user in users:\n",
    "    print(user)"
   ]
  },
  {
   "cell_type": "code",
   "execution_count": 25,
   "metadata": {
    "collapsed": true,
    "executionInfo": {
     "elapsed": 1229,
     "status": "ok",
     "timestamp": 1616289669772,
     "user": {
      "displayName": "João Miguel Benedetto",
      "photoUrl": "",
      "userId": "01429813854657997630"
     },
     "user_tz": 180
    },
    "id": "Omzfj656Xk6k",
    "jupyter": {
     "outputs_hidden": true
    }
   },
   "outputs": [
    {
     "data": {
      "text/html": [
       "<div>\n",
       "<style scoped>\n",
       "    .dataframe tbody tr th:only-of-type {\n",
       "        vertical-align: middle;\n",
       "    }\n",
       "\n",
       "    .dataframe tbody tr th {\n",
       "        vertical-align: top;\n",
       "    }\n",
       "\n",
       "    .dataframe thead th {\n",
       "        text-align: right;\n",
       "    }\n",
       "</style>\n",
       "<table border=\"1\" class=\"dataframe\">\n",
       "  <thead>\n",
       "    <tr style=\"text-align: right;\">\n",
       "      <th></th>\n",
       "      <th>id</th>\n",
       "      <th>login</th>\n",
       "      <th>first_name</th>\n",
       "      <th>last_name</th>\n",
       "      <th>email</th>\n",
       "      <th>restrict_email</th>\n",
       "      <th>user_type</th>\n",
       "      <th>timezone</th>\n",
       "      <th>language</th>\n",
       "      <th>status</th>\n",
       "      <th>deactivation_date</th>\n",
       "      <th>level</th>\n",
       "      <th>points</th>\n",
       "      <th>created_on</th>\n",
       "      <th>last_updated</th>\n",
       "      <th>last_updated_timestamp</th>\n",
       "      <th>avatar</th>\n",
       "      <th>bio</th>\n",
       "      <th>login_key</th>\n",
       "    </tr>\n",
       "  </thead>\n",
       "  <tbody>\n",
       "    <tr>\n",
       "      <th>0</th>\n",
       "      <td>1</td>\n",
       "      <td>jmbenedetto</td>\n",
       "      <td>JM</td>\n",
       "      <td>Benedetto</td>\n",
       "      <td>jmbenedetto@byhumane.com</td>\n",
       "      <td>0</td>\n",
       "      <td>SuperAdmin</td>\n",
       "      <td>(GMT -03:00) Buenos Aires, Georgetown, Brasilia</td>\n",
       "      <td>English</td>\n",
       "      <td>active</td>\n",
       "      <td></td>\n",
       "      <td>3</td>\n",
       "      <td>2400</td>\n",
       "      <td>21/02/2021, 20:16:21</td>\n",
       "      <td>17/04/2021, 20:00:36</td>\n",
       "      <td>1618700436</td>\n",
       "      <td>https://d3j0t7vrtr92dk.cloudfront.net/images/d...</td>\n",
       "      <td>None</td>\n",
       "      <td>https://humane.talentlms.com/index/autologin/k...</td>\n",
       "    </tr>\n",
       "    <tr>\n",
       "      <th>1</th>\n",
       "      <td>2</td>\n",
       "      <td>jmbenedetto1</td>\n",
       "      <td>Test1</td>\n",
       "      <td>teste 2</td>\n",
       "      <td>jmbenedetto@gmail.com</td>\n",
       "      <td>0</td>\n",
       "      <td>Learner-Type</td>\n",
       "      <td>(GMT -03:00) Sao Paulo, Brazil</td>\n",
       "      <td>Portuguese Brazil</td>\n",
       "      <td>active</td>\n",
       "      <td></td>\n",
       "      <td>1</td>\n",
       "      <td>25</td>\n",
       "      <td>20/03/2021, 11:21:29</td>\n",
       "      <td>20/03/2021, 11:22:32</td>\n",
       "      <td>1616250152</td>\n",
       "      <td>https://d3j0t7vrtr92dk.cloudfront.net/images/d...</td>\n",
       "      <td></td>\n",
       "      <td>https://humane.talentlms.com/index/autologin/k...</td>\n",
       "    </tr>\n",
       "  </tbody>\n",
       "</table>\n",
       "</div>"
      ],
      "text/plain": [
       "  id         login first_name  last_name                     email  \\\n",
       "0  1   jmbenedetto         JM  Benedetto  jmbenedetto@byhumane.com   \n",
       "1  2  jmbenedetto1      Test1    teste 2     jmbenedetto@gmail.com   \n",
       "\n",
       "  restrict_email     user_type  \\\n",
       "0              0    SuperAdmin   \n",
       "1              0  Learner-Type   \n",
       "\n",
       "                                          timezone           language  status  \\\n",
       "0  (GMT -03:00) Buenos Aires, Georgetown, Brasilia            English  active   \n",
       "1                   (GMT -03:00) Sao Paulo, Brazil  Portuguese Brazil  active   \n",
       "\n",
       "  deactivation_date level points            created_on          last_updated  \\\n",
       "0                       3   2400  21/02/2021, 20:16:21  17/04/2021, 20:00:36   \n",
       "1                       1     25  20/03/2021, 11:21:29  20/03/2021, 11:22:32   \n",
       "\n",
       "  last_updated_timestamp                                             avatar  \\\n",
       "0             1618700436  https://d3j0t7vrtr92dk.cloudfront.net/images/d...   \n",
       "1             1616250152  https://d3j0t7vrtr92dk.cloudfront.net/images/d...   \n",
       "\n",
       "    bio                                          login_key  \n",
       "0  None  https://humane.talentlms.com/index/autologin/k...  \n",
       "1        https://humane.talentlms.com/index/autologin/k...  "
      ]
     },
     "execution_count": 25,
     "metadata": {},
     "output_type": "execute_result"
    }
   ],
   "source": [
    "df = pd.DataFrame(users)\n",
    "df"
   ]
  },
  {
   "cell_type": "code",
   "execution_count": 30,
   "metadata": {
    "collapsed": true,
    "jupyter": {
     "outputs_hidden": true
    }
   },
   "outputs": [
    {
     "data": {
      "text/plain": [
       "{'id': '1',\n",
       " 'login': 'jmbenedetto',\n",
       " 'first_name': 'JM',\n",
       " 'last_name': 'Benedetto',\n",
       " 'email': 'jmbenedetto@byhumane.com',\n",
       " 'restrict_email': '0',\n",
       " 'user_type': 'SuperAdmin',\n",
       " 'timezone': '(GMT -03:00) Buenos Aires, Georgetown, Brasilia',\n",
       " 'language': 'English',\n",
       " 'status': 'active',\n",
       " 'deactivation_date': '',\n",
       " 'level': '3',\n",
       " 'points': '2400',\n",
       " 'created_on': '21/02/2021, 20:16:21',\n",
       " 'last_updated': '17/04/2021, 20:00:36',\n",
       " 'last_updated_timestamp': '1618700436',\n",
       " 'avatar': 'https://d3j0t7vrtr92dk.cloudfront.net/images/default_user.png',\n",
       " 'bio': None,\n",
       " 'login_key': 'https://humane.talentlms.com/index/autologin/key:475xnb4jtlbe4b9psrb416139493811',\n",
       " 'courses': [{'id': '124',\n",
       "   'name': 'Advanced Features of TalentLMS (002)',\n",
       "   'role': 'instructor',\n",
       "   'enrolled_on': '21/02/2021, 20:16:21',\n",
       "   'enrolled_on_timestamp': '1613949381',\n",
       "   'completed_on': '12/03/2021, 21:58:27',\n",
       "   'completed_on_timestamp': '1615597107',\n",
       "   'completion_status': 'completed',\n",
       "   'completion_status_formatted': 'Completed',\n",
       "   'completion_percentage': '100',\n",
       "   'expired_on': '',\n",
       "   'expired_on_timestamp': None,\n",
       "   'total_time': None,\n",
       "   'total_time_seconds': 0,\n",
       "   'last_accessed_unit_url': 'https://humane.talentlms.com/course/lastaccessedunit/course_id:124,user_id:1'},\n",
       "  {'id': '46',\n",
       "   'name': 'Content and TalentLMS (003)',\n",
       "   'role': 'instructor',\n",
       "   'enrolled_on': '21/02/2021, 20:16:21',\n",
       "   'enrolled_on_timestamp': '1613949381',\n",
       "   'completed_on': '12/03/2021, 22:28:11',\n",
       "   'completed_on_timestamp': '1615598891',\n",
       "   'completion_status': 'completed',\n",
       "   'completion_status_formatted': 'Completed',\n",
       "   'completion_percentage': '100',\n",
       "   'expired_on': '',\n",
       "   'expired_on_timestamp': None,\n",
       "   'total_time': None,\n",
       "   'total_time_seconds': 0,\n",
       "   'last_accessed_unit_url': 'https://humane.talentlms.com/course/lastaccessedunit/course_id:46,user_id:1'},\n",
       "  {'id': '113',\n",
       "   'name': 'Employee Training 101 (005)',\n",
       "   'role': 'instructor',\n",
       "   'enrolled_on': '21/02/2021, 20:16:21',\n",
       "   'enrolled_on_timestamp': '1613949381',\n",
       "   'completed_on': '12/03/2021, 22:10:17',\n",
       "   'completed_on_timestamp': '1615597817',\n",
       "   'completion_status': 'completed',\n",
       "   'completion_status_formatted': 'Completed',\n",
       "   'completion_percentage': '100',\n",
       "   'expired_on': '',\n",
       "   'expired_on_timestamp': None,\n",
       "   'total_time': None,\n",
       "   'total_time_seconds': 0,\n",
       "   'last_accessed_unit_url': 'https://humane.talentlms.com/course/lastaccessedunit/course_id:113,user_id:1'},\n",
       "  {'id': '122',\n",
       "   'name': 'Getting Started With eLearning (004)',\n",
       "   'role': 'instructor',\n",
       "   'enrolled_on': '21/02/2021, 20:16:21',\n",
       "   'enrolled_on_timestamp': '1613949381',\n",
       "   'completed_on': '12/03/2021, 21:25:08',\n",
       "   'completed_on_timestamp': '1615595108',\n",
       "   'completion_status': 'completed',\n",
       "   'completion_status_formatted': 'Completed',\n",
       "   'completion_percentage': '100',\n",
       "   'expired_on': '',\n",
       "   'expired_on_timestamp': None,\n",
       "   'total_time': None,\n",
       "   'total_time_seconds': 0,\n",
       "   'last_accessed_unit_url': 'https://humane.talentlms.com/course/lastaccessedunit/course_id:122,user_id:1'},\n",
       "  {'id': '123',\n",
       "   'name': 'Introduction to TalentLMS (001)',\n",
       "   'role': 'instructor',\n",
       "   'enrolled_on': '21/02/2021, 20:16:21',\n",
       "   'enrolled_on_timestamp': '1613949381',\n",
       "   'completed_on': '12/03/2021, 21:11:44',\n",
       "   'completed_on_timestamp': '1615594304',\n",
       "   'completion_status': 'completed',\n",
       "   'completion_status_formatted': 'Completed',\n",
       "   'completion_percentage': '100',\n",
       "   'expired_on': '',\n",
       "   'expired_on_timestamp': None,\n",
       "   'total_time': None,\n",
       "   'total_time_seconds': 0,\n",
       "   'last_accessed_unit_url': 'https://humane.talentlms.com/course/lastaccessedunit/course_id:123,user_id:1'},\n",
       "  {'id': '114',\n",
       "   'name': 'This is a SCORM Example Course (006)',\n",
       "   'role': 'instructor',\n",
       "   'enrolled_on': '21/02/2021, 20:16:21',\n",
       "   'enrolled_on_timestamp': '1613949381',\n",
       "   'completed_on': '12/03/2021, 22:32:59',\n",
       "   'completed_on_timestamp': '1615599179',\n",
       "   'completion_status': 'completed',\n",
       "   'completion_status_formatted': 'Completed',\n",
       "   'completion_percentage': '100',\n",
       "   'expired_on': '',\n",
       "   'expired_on_timestamp': None,\n",
       "   'total_time': None,\n",
       "   'total_time_seconds': 0,\n",
       "   'last_accessed_unit_url': 'https://humane.talentlms.com/course/lastaccessedunit/course_id:114,user_id:1'}],\n",
       " 'branches': [{'id': '1', 'name': 'client1'}],\n",
       " 'groups': [{'id': '1', 'name': 'test1'}],\n",
       " 'certifications': [{'course_id': '124',\n",
       "   'course_name': 'Advanced Features of TalentLMS (002)',\n",
       "   'unique_id': '7ec1-76d3-4c2a-1451',\n",
       "   'issued_date': '12/03/2021',\n",
       "   'issued_date_timestamp': 1615597107,\n",
       "   'expiration_date': 'Never',\n",
       "   'expiration_date_timestamp': 0,\n",
       "   'download_url': 'https://humane.talentlms.com/user/downloadcertification/id:2',\n",
       "   'public_url': 'https://humane.talentlms.com/user/certification/sig:E-RQOWUNuy6OkLIciY7Euw.bzI0UmZiRitFbzlTN2JXMUlBZVVidz09'},\n",
       "  {'course_id': '123',\n",
       "   'course_name': 'Introduction to TalentLMS (001)',\n",
       "   'unique_id': '4299-c7b3-114b-54da',\n",
       "   'issued_date': '12/03/2021',\n",
       "   'issued_date_timestamp': 1615594304,\n",
       "   'expiration_date': 'Never',\n",
       "   'expiration_date_timestamp': 0,\n",
       "   'download_url': 'https://humane.talentlms.com/user/downloadcertification/id:1',\n",
       "   'public_url': 'https://humane.talentlms.com/user/certification/sig:al0cxIi7pBOFOLc73mcaFA.OTRsai8vTzVwdENBcmVqazJnNldCdz09'}],\n",
       " 'badges': [{'name': 'Certification Newbie',\n",
       "   'type': 'certification',\n",
       "   'image_url': 'https://d3j0t7vrtr92dk.cloudfront.net/images/badges/set1/certification/1.png',\n",
       "   'criteria': '1 certification',\n",
       "   'issued_on': '12/03/2021, 21:11:44',\n",
       "   'issued_on_timestamp': 1615594304,\n",
       "   'badge_set_id': '1'},\n",
       "  {'name': 'Certification Grower',\n",
       "   'type': 'certification',\n",
       "   'image_url': 'https://d3j0t7vrtr92dk.cloudfront.net/images/badges/set1/certification/2.png',\n",
       "   'criteria': '2 certifications',\n",
       "   'issued_on': '12/03/2021, 21:58:28',\n",
       "   'issued_on_timestamp': 1615597108,\n",
       "   'badge_set_id': '1'},\n",
       "  {'name': 'Learning Newbie',\n",
       "   'type': 'learning',\n",
       "   'image_url': 'https://d3j0t7vrtr92dk.cloudfront.net/images/badges/set1/learning/1.png',\n",
       "   'criteria': '1 completed course',\n",
       "   'issued_on': '12/03/2021, 21:11:44',\n",
       "   'issued_on_timestamp': 1615594304,\n",
       "   'badge_set_id': '1'},\n",
       "  {'name': 'Learning Grower',\n",
       "   'type': 'learning',\n",
       "   'image_url': 'https://d3j0t7vrtr92dk.cloudfront.net/images/badges/set1/learning/2.png',\n",
       "   'criteria': '2 completed courses',\n",
       "   'issued_on': '12/03/2021, 21:25:08',\n",
       "   'issued_on_timestamp': 1615595108,\n",
       "   'badge_set_id': '1'},\n",
       "  {'name': 'Learning Adventurer',\n",
       "   'type': 'learning',\n",
       "   'image_url': 'https://d3j0t7vrtr92dk.cloudfront.net/images/badges/set1/learning/3.png',\n",
       "   'criteria': '4 completed courses',\n",
       "   'issued_on': '12/03/2021, 22:10:17',\n",
       "   'issued_on_timestamp': 1615597817,\n",
       "   'badge_set_id': '1'},\n",
       "  {'name': 'Perfectionism Newbie',\n",
       "   'type': 'perfectionism',\n",
       "   'image_url': 'https://d3j0t7vrtr92dk.cloudfront.net/images/badges/set1/perfectionism/1.png',\n",
       "   'criteria': '1 passed test or assignment with score 90%+',\n",
       "   'issued_on': '12/03/2021, 22:28:11',\n",
       "   'issued_on_timestamp': 1615598891,\n",
       "   'badge_set_id': '1'},\n",
       "  {'name': 'Survey Newbie',\n",
       "   'type': 'survey',\n",
       "   'image_url': 'https://d3j0t7vrtr92dk.cloudfront.net/images/badges/set1/survey/1.png',\n",
       "   'criteria': '1 completed survey',\n",
       "   'issued_on': '12/03/2021, 22:28:34',\n",
       "   'issued_on_timestamp': 1615598914,\n",
       "   'badge_set_id': '1'}]}"
      ]
     },
     "execution_count": 30,
     "metadata": {},
     "output_type": "execute_result"
    }
   ],
   "source": [
    "user = lms.users(1)\n",
    "user"
   ]
  },
  {
   "cell_type": "code",
   "execution_count": 19,
   "metadata": {
    "collapsed": true,
    "jupyter": {
     "outputs_hidden": true
    }
   },
   "outputs": [
    {
     "data": {
      "text/plain": [
       "dict"
      ]
     },
     "execution_count": 19,
     "metadata": {},
     "output_type": "execute_result"
    }
   ],
   "source": [
    "type(user)"
   ]
  },
  {
   "cell_type": "markdown",
   "metadata": {
    "id": "SbQpth2KZYJs"
   },
   "source": [
    "- The api call to users without user_id brings only user master data. \n",
    "- Using the user_id at the request one gets courses, badges, branches, groups and certifications related to the user. It seems to be the only api call that brings badges, certifications, groups and branches related to a user."
   ]
  },
  {
   "cell_type": "markdown",
   "metadata": {},
   "source": [
    "### User's badges"
   ]
  },
  {
   "cell_type": "code",
   "execution_count": 20,
   "metadata": {
    "collapsed": true,
    "jupyter": {
     "outputs_hidden": true
    }
   },
   "outputs": [
    {
     "data": {
      "text/plain": [
       "[{'name': 'Certification Newbie',\n",
       "  'type': 'certification',\n",
       "  'image_url': 'https://d3j0t7vrtr92dk.cloudfront.net/images/badges/set1/certification/1.png',\n",
       "  'criteria': '1 certification',\n",
       "  'issued_on': '12/03/2021, 21:11:44',\n",
       "  'issued_on_timestamp': 1615594304,\n",
       "  'badge_set_id': '1'},\n",
       " {'name': 'Certification Grower',\n",
       "  'type': 'certification',\n",
       "  'image_url': 'https://d3j0t7vrtr92dk.cloudfront.net/images/badges/set1/certification/2.png',\n",
       "  'criteria': '2 certifications',\n",
       "  'issued_on': '12/03/2021, 21:58:28',\n",
       "  'issued_on_timestamp': 1615597108,\n",
       "  'badge_set_id': '1'},\n",
       " {'name': 'Learning Newbie',\n",
       "  'type': 'learning',\n",
       "  'image_url': 'https://d3j0t7vrtr92dk.cloudfront.net/images/badges/set1/learning/1.png',\n",
       "  'criteria': '1 completed course',\n",
       "  'issued_on': '12/03/2021, 21:11:44',\n",
       "  'issued_on_timestamp': 1615594304,\n",
       "  'badge_set_id': '1'},\n",
       " {'name': 'Learning Grower',\n",
       "  'type': 'learning',\n",
       "  'image_url': 'https://d3j0t7vrtr92dk.cloudfront.net/images/badges/set1/learning/2.png',\n",
       "  'criteria': '2 completed courses',\n",
       "  'issued_on': '12/03/2021, 21:25:08',\n",
       "  'issued_on_timestamp': 1615595108,\n",
       "  'badge_set_id': '1'},\n",
       " {'name': 'Learning Adventurer',\n",
       "  'type': 'learning',\n",
       "  'image_url': 'https://d3j0t7vrtr92dk.cloudfront.net/images/badges/set1/learning/3.png',\n",
       "  'criteria': '4 completed courses',\n",
       "  'issued_on': '12/03/2021, 22:10:17',\n",
       "  'issued_on_timestamp': 1615597817,\n",
       "  'badge_set_id': '1'},\n",
       " {'name': 'Perfectionism Newbie',\n",
       "  'type': 'perfectionism',\n",
       "  'image_url': 'https://d3j0t7vrtr92dk.cloudfront.net/images/badges/set1/perfectionism/1.png',\n",
       "  'criteria': '1 passed test or assignment with score 90%+',\n",
       "  'issued_on': '12/03/2021, 22:28:11',\n",
       "  'issued_on_timestamp': 1615598891,\n",
       "  'badge_set_id': '1'},\n",
       " {'name': 'Survey Newbie',\n",
       "  'type': 'survey',\n",
       "  'image_url': 'https://d3j0t7vrtr92dk.cloudfront.net/images/badges/set1/survey/1.png',\n",
       "  'criteria': '1 completed survey',\n",
       "  'issued_on': '12/03/2021, 22:28:34',\n",
       "  'issued_on_timestamp': 1615598914,\n",
       "  'badge_set_id': '1'}]"
      ]
     },
     "execution_count": 20,
     "metadata": {},
     "output_type": "execute_result"
    }
   ],
   "source": [
    "user[\"badges\"]"
   ]
  },
  {
   "cell_type": "code",
   "execution_count": 22,
   "metadata": {
    "collapsed": true,
    "jupyter": {
     "outputs_hidden": true
    }
   },
   "outputs": [
    {
     "data": {
      "text/html": [
       "<div>\n",
       "<style scoped>\n",
       "    .dataframe tbody tr th:only-of-type {\n",
       "        vertical-align: middle;\n",
       "    }\n",
       "\n",
       "    .dataframe tbody tr th {\n",
       "        vertical-align: top;\n",
       "    }\n",
       "\n",
       "    .dataframe thead th {\n",
       "        text-align: right;\n",
       "    }\n",
       "</style>\n",
       "<table border=\"1\" class=\"dataframe\">\n",
       "  <thead>\n",
       "    <tr style=\"text-align: right;\">\n",
       "      <th></th>\n",
       "      <th>name</th>\n",
       "      <th>type</th>\n",
       "      <th>image_url</th>\n",
       "      <th>criteria</th>\n",
       "      <th>issued_on</th>\n",
       "      <th>issued_on_timestamp</th>\n",
       "      <th>badge_set_id</th>\n",
       "    </tr>\n",
       "  </thead>\n",
       "  <tbody>\n",
       "    <tr>\n",
       "      <th>0</th>\n",
       "      <td>Certification Newbie</td>\n",
       "      <td>certification</td>\n",
       "      <td>https://d3j0t7vrtr92dk.cloudfront.net/images/b...</td>\n",
       "      <td>1 certification</td>\n",
       "      <td>12/03/2021, 21:11:44</td>\n",
       "      <td>1615594304</td>\n",
       "      <td>1</td>\n",
       "    </tr>\n",
       "    <tr>\n",
       "      <th>1</th>\n",
       "      <td>Certification Grower</td>\n",
       "      <td>certification</td>\n",
       "      <td>https://d3j0t7vrtr92dk.cloudfront.net/images/b...</td>\n",
       "      <td>2 certifications</td>\n",
       "      <td>12/03/2021, 21:58:28</td>\n",
       "      <td>1615597108</td>\n",
       "      <td>1</td>\n",
       "    </tr>\n",
       "    <tr>\n",
       "      <th>2</th>\n",
       "      <td>Learning Newbie</td>\n",
       "      <td>learning</td>\n",
       "      <td>https://d3j0t7vrtr92dk.cloudfront.net/images/b...</td>\n",
       "      <td>1 completed course</td>\n",
       "      <td>12/03/2021, 21:11:44</td>\n",
       "      <td>1615594304</td>\n",
       "      <td>1</td>\n",
       "    </tr>\n",
       "    <tr>\n",
       "      <th>3</th>\n",
       "      <td>Learning Grower</td>\n",
       "      <td>learning</td>\n",
       "      <td>https://d3j0t7vrtr92dk.cloudfront.net/images/b...</td>\n",
       "      <td>2 completed courses</td>\n",
       "      <td>12/03/2021, 21:25:08</td>\n",
       "      <td>1615595108</td>\n",
       "      <td>1</td>\n",
       "    </tr>\n",
       "    <tr>\n",
       "      <th>4</th>\n",
       "      <td>Learning Adventurer</td>\n",
       "      <td>learning</td>\n",
       "      <td>https://d3j0t7vrtr92dk.cloudfront.net/images/b...</td>\n",
       "      <td>4 completed courses</td>\n",
       "      <td>12/03/2021, 22:10:17</td>\n",
       "      <td>1615597817</td>\n",
       "      <td>1</td>\n",
       "    </tr>\n",
       "    <tr>\n",
       "      <th>5</th>\n",
       "      <td>Perfectionism Newbie</td>\n",
       "      <td>perfectionism</td>\n",
       "      <td>https://d3j0t7vrtr92dk.cloudfront.net/images/b...</td>\n",
       "      <td>1 passed test or assignment with score 90%+</td>\n",
       "      <td>12/03/2021, 22:28:11</td>\n",
       "      <td>1615598891</td>\n",
       "      <td>1</td>\n",
       "    </tr>\n",
       "    <tr>\n",
       "      <th>6</th>\n",
       "      <td>Survey Newbie</td>\n",
       "      <td>survey</td>\n",
       "      <td>https://d3j0t7vrtr92dk.cloudfront.net/images/b...</td>\n",
       "      <td>1 completed survey</td>\n",
       "      <td>12/03/2021, 22:28:34</td>\n",
       "      <td>1615598914</td>\n",
       "      <td>1</td>\n",
       "    </tr>\n",
       "  </tbody>\n",
       "</table>\n",
       "</div>"
      ],
      "text/plain": [
       "                   name           type  \\\n",
       "0  Certification Newbie  certification   \n",
       "1  Certification Grower  certification   \n",
       "2       Learning Newbie       learning   \n",
       "3       Learning Grower       learning   \n",
       "4   Learning Adventurer       learning   \n",
       "5  Perfectionism Newbie  perfectionism   \n",
       "6         Survey Newbie         survey   \n",
       "\n",
       "                                           image_url  \\\n",
       "0  https://d3j0t7vrtr92dk.cloudfront.net/images/b...   \n",
       "1  https://d3j0t7vrtr92dk.cloudfront.net/images/b...   \n",
       "2  https://d3j0t7vrtr92dk.cloudfront.net/images/b...   \n",
       "3  https://d3j0t7vrtr92dk.cloudfront.net/images/b...   \n",
       "4  https://d3j0t7vrtr92dk.cloudfront.net/images/b...   \n",
       "5  https://d3j0t7vrtr92dk.cloudfront.net/images/b...   \n",
       "6  https://d3j0t7vrtr92dk.cloudfront.net/images/b...   \n",
       "\n",
       "                                      criteria             issued_on  \\\n",
       "0                              1 certification  12/03/2021, 21:11:44   \n",
       "1                             2 certifications  12/03/2021, 21:58:28   \n",
       "2                           1 completed course  12/03/2021, 21:11:44   \n",
       "3                          2 completed courses  12/03/2021, 21:25:08   \n",
       "4                          4 completed courses  12/03/2021, 22:10:17   \n",
       "5  1 passed test or assignment with score 90%+  12/03/2021, 22:28:11   \n",
       "6                           1 completed survey  12/03/2021, 22:28:34   \n",
       "\n",
       "   issued_on_timestamp badge_set_id  \n",
       "0           1615594304            1  \n",
       "1           1615597108            1  \n",
       "2           1615594304            1  \n",
       "3           1615595108            1  \n",
       "4           1615597817            1  \n",
       "5           1615598891            1  \n",
       "6           1615598914            1  "
      ]
     },
     "execution_count": 22,
     "metadata": {},
     "output_type": "execute_result"
    }
   ],
   "source": [
    "dfub = pd.DataFrame(user[\"badges\"])\n",
    "dfub"
   ]
  },
  {
   "cell_type": "markdown",
   "metadata": {},
   "source": [
    "- This seems to be the only call delivering data on badges related to users."
   ]
  },
  {
   "cell_type": "markdown",
   "metadata": {},
   "source": [
    "### User's certifications"
   ]
  },
  {
   "cell_type": "code",
   "execution_count": 31,
   "metadata": {
    "collapsed": true,
    "jupyter": {
     "outputs_hidden": true
    }
   },
   "outputs": [
    {
     "data": {
      "text/plain": [
       "[{'course_id': '124',\n",
       "  'course_name': 'Advanced Features of TalentLMS (002)',\n",
       "  'unique_id': '7ec1-76d3-4c2a-1451',\n",
       "  'issued_date': '12/03/2021',\n",
       "  'issued_date_timestamp': 1615597107,\n",
       "  'expiration_date': 'Never',\n",
       "  'expiration_date_timestamp': 0,\n",
       "  'download_url': 'https://humane.talentlms.com/user/downloadcertification/id:2',\n",
       "  'public_url': 'https://humane.talentlms.com/user/certification/sig:E-RQOWUNuy6OkLIciY7Euw.bzI0UmZiRitFbzlTN2JXMUlBZVVidz09'},\n",
       " {'course_id': '123',\n",
       "  'course_name': 'Introduction to TalentLMS (001)',\n",
       "  'unique_id': '4299-c7b3-114b-54da',\n",
       "  'issued_date': '12/03/2021',\n",
       "  'issued_date_timestamp': 1615594304,\n",
       "  'expiration_date': 'Never',\n",
       "  'expiration_date_timestamp': 0,\n",
       "  'download_url': 'https://humane.talentlms.com/user/downloadcertification/id:1',\n",
       "  'public_url': 'https://humane.talentlms.com/user/certification/sig:al0cxIi7pBOFOLc73mcaFA.OTRsai8vTzVwdENBcmVqazJnNldCdz09'}]"
      ]
     },
     "execution_count": 31,
     "metadata": {},
     "output_type": "execute_result"
    }
   ],
   "source": [
    "user[\"certifications\"]"
   ]
  },
  {
   "cell_type": "code",
   "execution_count": 34,
   "metadata": {
    "collapsed": true,
    "jupyter": {
     "outputs_hidden": true
    }
   },
   "outputs": [
    {
     "data": {
      "text/html": [
       "<div>\n",
       "<style scoped>\n",
       "    .dataframe tbody tr th:only-of-type {\n",
       "        vertical-align: middle;\n",
       "    }\n",
       "\n",
       "    .dataframe tbody tr th {\n",
       "        vertical-align: top;\n",
       "    }\n",
       "\n",
       "    .dataframe thead th {\n",
       "        text-align: right;\n",
       "    }\n",
       "</style>\n",
       "<table border=\"1\" class=\"dataframe\">\n",
       "  <thead>\n",
       "    <tr style=\"text-align: right;\">\n",
       "      <th></th>\n",
       "      <th>course_id</th>\n",
       "      <th>course_name</th>\n",
       "      <th>unique_id</th>\n",
       "      <th>issued_date</th>\n",
       "      <th>issued_date_timestamp</th>\n",
       "      <th>expiration_date</th>\n",
       "      <th>expiration_date_timestamp</th>\n",
       "      <th>download_url</th>\n",
       "      <th>public_url</th>\n",
       "    </tr>\n",
       "  </thead>\n",
       "  <tbody>\n",
       "    <tr>\n",
       "      <th>0</th>\n",
       "      <td>124</td>\n",
       "      <td>Advanced Features of TalentLMS (002)</td>\n",
       "      <td>7ec1-76d3-4c2a-1451</td>\n",
       "      <td>12/03/2021</td>\n",
       "      <td>1615597107</td>\n",
       "      <td>Never</td>\n",
       "      <td>0</td>\n",
       "      <td>https://humane.talentlms.com/user/downloadcert...</td>\n",
       "      <td>https://humane.talentlms.com/user/certificatio...</td>\n",
       "    </tr>\n",
       "    <tr>\n",
       "      <th>1</th>\n",
       "      <td>123</td>\n",
       "      <td>Introduction to TalentLMS (001)</td>\n",
       "      <td>4299-c7b3-114b-54da</td>\n",
       "      <td>12/03/2021</td>\n",
       "      <td>1615594304</td>\n",
       "      <td>Never</td>\n",
       "      <td>0</td>\n",
       "      <td>https://humane.talentlms.com/user/downloadcert...</td>\n",
       "      <td>https://humane.talentlms.com/user/certificatio...</td>\n",
       "    </tr>\n",
       "  </tbody>\n",
       "</table>\n",
       "</div>"
      ],
      "text/plain": [
       "  course_id                           course_name            unique_id  \\\n",
       "0       124  Advanced Features of TalentLMS (002)  7ec1-76d3-4c2a-1451   \n",
       "1       123       Introduction to TalentLMS (001)  4299-c7b3-114b-54da   \n",
       "\n",
       "  issued_date  issued_date_timestamp expiration_date  \\\n",
       "0  12/03/2021             1615597107           Never   \n",
       "1  12/03/2021             1615594304           Never   \n",
       "\n",
       "   expiration_date_timestamp  \\\n",
       "0                          0   \n",
       "1                          0   \n",
       "\n",
       "                                        download_url  \\\n",
       "0  https://humane.talentlms.com/user/downloadcert...   \n",
       "1  https://humane.talentlms.com/user/downloadcert...   \n",
       "\n",
       "                                          public_url  \n",
       "0  https://humane.talentlms.com/user/certificatio...  \n",
       "1  https://humane.talentlms.com/user/certificatio...  "
      ]
     },
     "execution_count": 34,
     "metadata": {},
     "output_type": "execute_result"
    }
   ],
   "source": [
    "dfuc = pd.DataFrame(user[\"certifications\"])\n",
    "dfuc"
   ]
  },
  {
   "cell_type": "markdown",
   "metadata": {},
   "source": [
    "- This seems to be the only api call related to user's certification."
   ]
  },
  {
   "cell_type": "markdown",
   "metadata": {
    "id": "fk3xrCCYZwuu"
   },
   "source": [
    "## Understand course data"
   ]
  },
  {
   "cell_type": "code",
   "execution_count": 8,
   "metadata": {
    "colab": {
     "base_uri": "https://localhost:8080/"
    },
    "collapsed": true,
    "executionInfo": {
     "elapsed": 948,
     "status": "ok",
     "timestamp": 1616290202714,
     "user": {
      "displayName": "João Miguel Benedetto",
      "photoUrl": "",
      "userId": "01429813854657997630"
     },
     "user_tz": 180
    },
    "id": "wWls1T2VY0pF",
    "jupyter": {
     "outputs_hidden": true
    },
    "outputId": "6945aad4-838e-4a31-9af3-484e448109fe"
   },
   "outputs": [
    {
     "data": {
      "text/plain": [
       "[{'id': '124',\n",
       "  'name': 'Advanced Features of TalentLMS',\n",
       "  'code': '002',\n",
       "  'category_id': '3',\n",
       "  'description': 'How do you become a TalentLMS super-user? With this brief training on some of the more advanced features of our platform. Dive in and see how you can save time when building a course.',\n",
       "  'price': 'R&#36;0.00',\n",
       "  'status': 'active',\n",
       "  'creation_date': '21/02/2021, 20:16:21',\n",
       "  'last_update_on': '21/02/2021, 20:16:21',\n",
       "  'creator_id': '1',\n",
       "  'hide_from_catalog': '0',\n",
       "  'time_limit': '0',\n",
       "  'expiration_datetime': None,\n",
       "  'level': None,\n",
       "  'shared': '0',\n",
       "  'shared_url': '',\n",
       "  'avatar': 'https://d3j0t7vrtr92dk.cloudfront.net/samplecourses/1548346699_toolkit.png?',\n",
       "  'big_avatar': 'https://d3j0t7vrtr92dk.cloudfront.net/samplecourses/1548346701_toolkit.png?',\n",
       "  'certification': 'Fancy',\n",
       "  'certification_duration': 'Forever'},\n",
       " {'id': '46',\n",
       "  'name': 'Content and TalentLMS',\n",
       "  'code': '003',\n",
       "  'category_id': '3',\n",
       "  'description': 'When creating an online course, content is all you need! Take some time to find out the types of content available in TalentLMS. More than that, this course will give you an idea about how it feels to be a learner in our platform.',\n",
       "  'price': 'R&#36;0.00',\n",
       "  'status': 'active',\n",
       "  'creation_date': '21/02/2021, 20:16:21',\n",
       "  'last_update_on': '21/02/2021, 20:16:21',\n",
       "  'creator_id': '1',\n",
       "  'hide_from_catalog': '0',\n",
       "  'time_limit': '0',\n",
       "  'expiration_datetime': None,\n",
       "  'level': None,\n",
       "  'shared': '0',\n",
       "  'shared_url': '',\n",
       "  'avatar': 'https://d3j0t7vrtr92dk.cloudfront.net/samplecourses/1548346713_content.png?',\n",
       "  'big_avatar': 'https://d3j0t7vrtr92dk.cloudfront.net/samplecourses/1548346715_content.png?',\n",
       "  'certification': None,\n",
       "  'certification_duration': None},\n",
       " {'id': '113',\n",
       "  'name': 'Employee Training 101',\n",
       "  'code': '005',\n",
       "  'category_id': '3',\n",
       "  'description': 'Investing in employees can be the smartest decision a business could ever make. In this course, you’ll learn what employee training is, some of the common types, and how you can become a trainer your employees will love.',\n",
       "  'price': 'R&#36;0.00',\n",
       "  'status': 'active',\n",
       "  'creation_date': '21/02/2021, 20:16:21',\n",
       "  'last_update_on': '21/02/2021, 20:16:21',\n",
       "  'creator_id': '1',\n",
       "  'hide_from_catalog': '0',\n",
       "  'time_limit': '0',\n",
       "  'expiration_datetime': None,\n",
       "  'level': None,\n",
       "  'shared': '0',\n",
       "  'shared_url': '',\n",
       "  'avatar': 'https://d3j0t7vrtr92dk.cloudfront.net/samplecourses/1548346724_employees.png?',\n",
       "  'big_avatar': 'https://d3j0t7vrtr92dk.cloudfront.net/samplecourses/1548346726_employees.png?',\n",
       "  'certification': None,\n",
       "  'certification_duration': None},\n",
       " {'id': '122',\n",
       "  'name': 'Getting Started With eLearning',\n",
       "  'code': '004',\n",
       "  'category_id': '3',\n",
       "  'description': \"This course raises some fundamental eLearning questions. What do you need to succeed as an online instructor? What strategies do eLearning gurus practice? By the end of this course, you'll have all the answers.\",\n",
       "  'price': 'R&#36;0.00',\n",
       "  'status': 'active',\n",
       "  'creation_date': '21/02/2021, 20:16:21',\n",
       "  'last_update_on': '21/02/2021, 20:16:21',\n",
       "  'creator_id': '1',\n",
       "  'hide_from_catalog': '0',\n",
       "  'time_limit': '0',\n",
       "  'expiration_datetime': None,\n",
       "  'level': None,\n",
       "  'shared': '0',\n",
       "  'shared_url': '',\n",
       "  'avatar': 'https://d3j0t7vrtr92dk.cloudfront.net/samplecourses/1548346736_fundamentals.png?',\n",
       "  'big_avatar': 'https://d3j0t7vrtr92dk.cloudfront.net/samplecourses/1548346737_fundamentals.png?',\n",
       "  'certification': None,\n",
       "  'certification_duration': None},\n",
       " {'id': '123',\n",
       "  'name': 'Introduction to TalentLMS',\n",
       "  'code': '001',\n",
       "  'category_id': '3',\n",
       "  'description': 'Welcome to TalentLMS! Using new software can be more frustrating than starting a show in the middle of the season. Watch this 15-minute video course to get familiar with TalentLMS and get the most out of your shiny new account.',\n",
       "  'price': 'R&#36;0.00',\n",
       "  'status': 'active',\n",
       "  'creation_date': '21/02/2021, 20:16:21',\n",
       "  'last_update_on': '21/02/2021, 20:16:21',\n",
       "  'creator_id': '1',\n",
       "  'hide_from_catalog': '0',\n",
       "  'time_limit': '0',\n",
       "  'expiration_datetime': None,\n",
       "  'level': None,\n",
       "  'shared': '0',\n",
       "  'shared_url': '',\n",
       "  'avatar': 'https://d3j0t7vrtr92dk.cloudfront.net/samplecourses/1548346753_intro.png?',\n",
       "  'big_avatar': 'https://d3j0t7vrtr92dk.cloudfront.net/samplecourses/1548346755_intro.png?',\n",
       "  'certification': 'Fancy',\n",
       "  'certification_duration': 'Forever'},\n",
       " {'id': '114',\n",
       "  'name': 'This is a SCORM Example Course',\n",
       "  'code': '006',\n",
       "  'category_id': '3',\n",
       "  'description': \"SCORM is the fastest, easiest way to make your interactive content work well with your LMS. This example course will teach you how SCORM material works inside the platform and how to perform CPR. Don't you just love killing two birds with one stone?\",\n",
       "  'price': 'R&#36;0.00',\n",
       "  'status': 'active',\n",
       "  'creation_date': '21/02/2021, 20:16:21',\n",
       "  'last_update_on': '21/02/2021, 20:16:21',\n",
       "  'creator_id': '1',\n",
       "  'hide_from_catalog': '0',\n",
       "  'time_limit': '0',\n",
       "  'expiration_datetime': None,\n",
       "  'level': None,\n",
       "  'shared': '0',\n",
       "  'shared_url': '',\n",
       "  'avatar': 'https://d3j0t7vrtr92dk.cloudfront.net/samplecourses/1548346770_scorm.png?',\n",
       "  'big_avatar': 'https://d3j0t7vrtr92dk.cloudfront.net/samplecourses/1548346772_scorm.png?',\n",
       "  'certification': None,\n",
       "  'certification_duration': None}]"
      ]
     },
     "execution_count": 8,
     "metadata": {},
     "output_type": "execute_result"
    }
   ],
   "source": [
    "lms.courses()"
   ]
  },
  {
   "cell_type": "code",
   "execution_count": 11,
   "metadata": {
    "colab": {
     "base_uri": "https://localhost:8080/"
    },
    "collapsed": true,
    "executionInfo": {
     "elapsed": 724,
     "status": "ok",
     "timestamp": 1616290233286,
     "user": {
      "displayName": "João Miguel Benedetto",
      "photoUrl": "",
      "userId": "01429813854657997630"
     },
     "user_tz": 180
    },
    "id": "4IJiD9vyZ0BU",
    "jupyter": {
     "outputs_hidden": true
    },
    "outputId": "3f5bc8e2-f9af-459e-ad1f-cde165989b85"
   },
   "outputs": [
    {
     "data": {
      "text/plain": [
       "{'id': '46',\n",
       " 'name': 'Content and TalentLMS',\n",
       " 'code': '003',\n",
       " 'category_id': '3',\n",
       " 'description': 'When creating an online course, content is all you need! Take some time to find out the types of content available in TalentLMS. More than that, this course will give you an idea about how it feels to be a learner in our platform.',\n",
       " 'price': 'R&#36;0.00',\n",
       " 'status': 'active',\n",
       " 'creation_date': '21/02/2021, 20:16:21',\n",
       " 'last_update_on': '21/02/2021, 20:16:21',\n",
       " 'creator_id': '1',\n",
       " 'hide_from_catalog': '0',\n",
       " 'time_limit': '0',\n",
       " 'expiration_datetime': None,\n",
       " 'level': None,\n",
       " 'shared': '0',\n",
       " 'shared_url': '',\n",
       " 'avatar': 'https://d3j0t7vrtr92dk.cloudfront.net/samplecourses/1548346713_content.png?',\n",
       " 'big_avatar': 'https://d3j0t7vrtr92dk.cloudfront.net/samplecourses/1548346715_content.png?',\n",
       " 'certification': None,\n",
       " 'certification_duration': None,\n",
       " 'users': [{'id': '1',\n",
       "   'name': 'J. Benedetto',\n",
       "   'role': 'instructor',\n",
       "   'enrolled_on': '21/02/2021, 20:16:21',\n",
       "   'enrolled_on_timestamp': '1613949381',\n",
       "   'completed_on': '12/03/2021, 22:28:11',\n",
       "   'completed_on_timestamp': '1615598891',\n",
       "   'completion_percentage': '100',\n",
       "   'expired_on': '',\n",
       "   'expired_on_timestamp': None,\n",
       "   'total_time': None,\n",
       "   'total_time_seconds': 0}],\n",
       " 'units': [{'id': '2005',\n",
       "   'type': 'Content',\n",
       "   'name': 'Welcome to Content and TalentLMS',\n",
       "   'url': 'https://humane.talentlms.com/unit/apiview/id:2005'},\n",
       "  {'id': '2006',\n",
       "   'type': 'Section',\n",
       "   'name': 'HOW EACH CONTENT TYPE WORKS',\n",
       "   'delay_time': None,\n",
       "   'aggregated_delay_time': None,\n",
       "   'formatted_aggregated_delay_time': None},\n",
       "  {'id': '2007',\n",
       "   'type': 'Content',\n",
       "   'name': 'Content Types to Use in Your Courses',\n",
       "   'url': 'https://humane.talentlms.com/unit/apiview/id:2007'},\n",
       "  {'id': '2008',\n",
       "   'type': 'Content',\n",
       "   'name': 'Uploading a Cool Image',\n",
       "   'url': 'https://humane.talentlms.com/unit/apiview/id:2008'},\n",
       "  {'id': '2009',\n",
       "   'type': 'Web content',\n",
       "   'name': 'Embedding Online Content',\n",
       "   'url': 'https://humane.talentlms.com/unit/apiview/id:2009'},\n",
       "  {'id': '2010',\n",
       "   'type': 'Video',\n",
       "   'name': 'Embedding Videos',\n",
       "   'url': 'https://humane.talentlms.com/unit/apiview/id:2010'},\n",
       "  {'id': '2011',\n",
       "   'type': 'Video',\n",
       "   'name': 'PowerPoint Presentation as a Video',\n",
       "   'url': 'https://humane.talentlms.com/unit/apiview/id:2011'},\n",
       "  {'id': '2012',\n",
       "   'type': 'Audio',\n",
       "   'name': 'Uploading Audio',\n",
       "   'url': 'https://humane.talentlms.com/unit/apiview/id:2012'},\n",
       "  {'id': '2013',\n",
       "   'type': 'Presentation | Document',\n",
       "   'name': 'Using Documents and Presentations',\n",
       "   'url': 'https://humane.talentlms.com/unit/apiview/id:2013'},\n",
       "  {'id': '2014',\n",
       "   'type': 'iFrame',\n",
       "   'name': 'Embedding with iFrame',\n",
       "   'url': 'https://humane.talentlms.com/unit/apiview/id:2014'},\n",
       "  {'id': '2015',\n",
       "   'type': 'Section',\n",
       "   'name': 'ASSESSMENTS AS PART OF A COURSE',\n",
       "   'delay_time': None,\n",
       "   'aggregated_delay_time': None,\n",
       "   'formatted_aggregated_delay_time': None},\n",
       "  {'id': '2016',\n",
       "   'type': 'Test',\n",
       "   'name': 'Using Assessments',\n",
       "   'url': 'https://humane.talentlms.com/unit/apiview/id:2016'},\n",
       "  {'id': '2017',\n",
       "   'type': 'Survey',\n",
       "   'name': 'Working with Surveys',\n",
       "   'url': 'https://humane.talentlms.com/unit/apiview/id:2017'}],\n",
       " 'rules': ['You must complete the test &quot;Using Assessments&quot;'],\n",
       " 'prerequisites': [],\n",
       " 'prerequisite_rule_sets': []}"
      ]
     },
     "execution_count": 11,
     "metadata": {},
     "output_type": "execute_result"
    }
   ],
   "source": [
    "lms.courses(46)"
   ]
  },
  {
   "cell_type": "markdown",
   "metadata": {
    "id": "up_wwMjFaE7W"
   },
   "source": [
    "Course api call withoout course_id returns only course master data. Passing the course_id to the api calls returns not only enrolled users with transactional data, but also the list of course units."
   ]
  },
  {
   "cell_type": "markdown",
   "metadata": {},
   "source": [
    "## Understand unit data"
   ]
  },
  {
   "cell_type": "code",
   "execution_count": 3,
   "metadata": {
    "collapsed": true,
    "jupyter": {
     "outputs_hidden": true
    }
   },
   "outputs": [
    {
     "data": {
      "text/plain": [
       "[{'user_id': '1', 'status': 'Completed', 'score': '100'}]"
      ]
     },
     "execution_count": 3,
     "metadata": {},
     "output_type": "execute_result"
    }
   ],
   "source": [
    "lms.get_user_progress_in_units(unit_id=1994)"
   ]
  },
  {
   "cell_type": "code",
   "execution_count": 4,
   "metadata": {
    "collapsed": true,
    "jupyter": {
     "outputs_hidden": true
    }
   },
   "outputs": [
    {
     "data": {
      "text/plain": [
       "{'user_id': '1', 'status': 'Completed', 'score': '100'}"
      ]
     },
     "execution_count": 4,
     "metadata": {},
     "output_type": "execute_result"
    }
   ],
   "source": [
    "lms.get_user_progress_in_units(unit_id=1994, user_id=1)"
   ]
  },
  {
   "cell_type": "markdown",
   "metadata": {},
   "source": [
    "Calling the api with the unit id, we get data from all user_id."
   ]
  },
  {
   "cell_type": "markdown",
   "metadata": {},
   "source": [
    "## Get test answers"
   ]
  },
  {
   "cell_type": "markdown",
   "metadata": {},
   "source": [
    "- From the api guide: \\\n",
    "You can retrieve the answers of a user in a test by calling TalentLMS_Unit::getTestAnswers(array('test_id' => '{testID}', 'user_id' => '{userID}')). If the test id corresponds to an existing test and the requested user is enrolled in the course containing the test, then the above call executes successfully and it returns a response in the following format."
   ]
  },
  {
   "cell_type": "code",
   "execution_count": 12,
   "metadata": {
    "collapsed": true,
    "jupyter": {
     "outputs_hidden": true
    }
   },
   "outputs": [
    {
     "data": {
      "text/plain": [
       "{'test_id': '2016',\n",
       " 'test_name': 'Using Assessments',\n",
       " 'user_id': '1',\n",
       " 'user_name': 'J. Benedetto',\n",
       " 'score': '100.00%',\n",
       " 'completion_status': 'Passed',\n",
       " 'completed_on': '12/03/2021, 22:28:11',\n",
       " 'completed_on_timestamp': '1615598891',\n",
       " 'total_time': '22s',\n",
       " 'total_time_seconds': 22,\n",
       " 'questions': [{'id': '361',\n",
       "   'text': 'When it comes to iFrames, you can embed an entire page [straight into a course], or choose for it to [appear as a pop-up].',\n",
       "   'type': 'Fill the gap',\n",
       "   'weight': '1',\n",
       "   'correct': '1',\n",
       "   'answers': {'1': 'straight into a course', '2': 'appear as a pop-up'},\n",
       "   'correct_answers': {'1': 'straight into a course',\n",
       "    '2': 'appear as a pop-up'},\n",
       "   'user_answers': {'1': 'straight into a course', '2': 'appear as a pop-up'}},\n",
       "  {'id': '359',\n",
       "   'text': 'Content types TalentLMS supports include:',\n",
       "   'type': 'Multiple choice',\n",
       "   'weight': '1',\n",
       "   'correct': '1',\n",
       "   'answers': {'1': 'Video',\n",
       "    '2': 'Audio',\n",
       "    '3': 'Presentations and documents',\n",
       "    '4': 'iFrame',\n",
       "    '5': 'Assessments',\n",
       "    '6': 'Daily pop-culture news'},\n",
       "   'correct_answers': {'1': 'Video',\n",
       "    '2': 'Audio',\n",
       "    '3': 'Presentations and documents',\n",
       "    '4': 'iFrame',\n",
       "    '5': 'Assessments'},\n",
       "   'user_answers': {'1': 'Video',\n",
       "    '2': 'Audio',\n",
       "    '3': 'Presentations and documents',\n",
       "    '4': 'iFrame',\n",
       "    '5': 'Assessments'}}]}"
      ]
     },
     "execution_count": 12,
     "metadata": {},
     "output_type": "execute_result"
    }
   ],
   "source": [
    "lms.get_test_answers(test_id=2016, user_id=1)"
   ]
  },
  {
   "cell_type": "markdown",
   "metadata": {},
   "source": [
    "## Proposed data flow"
   ]
  },
  {
   "cell_type": "markdown",
   "metadata": {},
   "source": [
    "- Get new data\n",
    "    - Get master data\n",
    "        - Call groups api to get groups master data;\n",
    "        - Persist group masterdata;\n",
    "        - Call branches api to get branches master data;\n",
    "        - Persist branches masterdata;\n",
    "        - Call users api without user id to get users master data;\n",
    "        - Persist user masterdata;\n",
    "        - Call courses api without course_id to get courses masterdata;\n",
    "        - Persist courses master data;\n",
    "        - For each course in api response, call course api with course_id unit master data;\n",
    "        - Persist units by course as course masterdata;\n",
    "\n",
    "    - Get transational data\n",
    "        - For each active user, call users api for the user_id to get badges, certifications, branches, groups and courses for the user;\n",
    "        - Persist badges, certifications, branches, groups and courses for the user;\n",
    "        - For each unit in each course, call unit api to get user data for each unit;\n",
    "        - Persist user data by unit in course;\n",
    "        - For each unit that is a test, call test api per enrolled user to get user responses;\n",
    "        - Persist user response by test;"
   ]
  },
  {
   "cell_type": "code",
   "execution_count": null,
   "metadata": {
    "collapsed": true,
    "jupyter": {
     "outputs_hidden": true
    }
   },
   "outputs": [],
   "source": []
  }
 ],
 "metadata": {
  "colab": {
   "authorship_tag": "ABX9TyPzSBzkKiv7NxDo4lSLOXry",
   "collapsed_sections": [],
   "name": "1.0_jmb_EDA on TalentLMS API using talentlms.py_20210313_v1.ipynb",
   "provenance": [],
   "toc_visible": true
  },
  "kernelspec": {
   "display_name": "Python [conda env:talent-lms-integration]",
   "language": "python",
   "name": "conda-env-talent-lms-integration-py"
  },
  "language_info": {
   "codemirror_mode": {
    "name": "ipython",
    "version": 3
   },
   "file_extension": ".py",
   "mimetype": "text/x-python",
   "name": "python",
   "nbconvert_exporter": "python",
   "pygments_lexer": "ipython3",
   "version": "3.9.2"
  },
  "toc-autonumbering": true
 },
 "nbformat": 4,
 "nbformat_minor": 4
}
